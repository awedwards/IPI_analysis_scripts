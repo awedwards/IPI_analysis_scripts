{
 "cells": [
  {
   "cell_type": "code",
   "execution_count": 115,
   "id": "8c7100f5",
   "metadata": {},
   "outputs": [],
   "source": [
    "from scipy.spatial import distance\n",
    "from scipy.stats import norm\n",
    "import pandas as pd\n",
    "import numpy as np\n",
    "from random import choices\n",
    "import time\n",
    "import sparse\n",
    "from statsmodels.stats.multitest import multipletests as mt\n",
    "from matplotlib import pyplot as plt"
   ]
  },
  {
   "cell_type": "code",
   "execution_count": 116,
   "id": "f6b9fd50",
   "metadata": {},
   "outputs": [],
   "source": [
    "data = pd.read_csv(\"/media/austin/IPI_8plex_project/8plex/analysis/cell_data_tables/IPICRC055T1_8plex/IPICRC055T1_8plex_single_cell_data_gated_tumorannotated_20220131.csv\")\n",
    "in_tumor = 1 # 0 if analyzing stroma, 1 if analyzing tumor\n",
    "data = data[data['in_tumor']==in_tumor]\n",
    "ncells=len(data)\n",
    "\n",
    "cell_types = list(set(data.cell_type))\n",
    "try:\n",
    "    cell_types.remove('other')\n",
    "except KeyError:\n",
    "    pass\n",
    "ncell_types = len(cell_types)\n",
    "\n",
    "bootstrap_num = 1000\n",
    "close_num_rand = np.zeros((ncell_types, ncell_types, bootstrap_num))\n",
    "distance_threshold= 100"
   ]
  },
  {
   "cell_type": "code",
   "execution_count": 117,
   "id": "0bd9bad4",
   "metadata": {},
   "outputs": [],
   "source": [
    "centroid_coords = np.stack([data[data['in_tumor']==in_tumor]['centroid-0'],\n",
    "                            data[data['in_tumor']==in_tumor]['centroid-1']]).astype(np.float32).transpose()"
   ]
  },
  {
   "cell_type": "code",
   "execution_count": 118,
   "id": "ee8d6fc5",
   "metadata": {},
   "outputs": [],
   "source": [
    "dist_mat = distance.cdist(centroid_coords, centroid_coords, metric=\"euclidean\").astype(np.float32)"
   ]
  },
  {
   "cell_type": "code",
   "execution_count": 119,
   "id": "019bb57f",
   "metadata": {},
   "outputs": [],
   "source": [
    "close_num = np.zeros((ncell_types, ncell_types), dtype=np.uint64)\n",
    "close_rand = np.zeros((ncell_types, ncell_types, bootstrap_num), dtype=np.uint64)\n",
    "\n",
    "for i in np.arange(ncell_types):\n",
    "    \n",
    "    ct1_pos_inds = (data['cell_type']==cell_types[i])\n",
    "    n_ct1 = sum(ct1_pos_inds)\n",
    "\n",
    "    for j in np.arange(ncell_types):\n",
    "        \n",
    "        ct2_pos_inds = (data['cell_type']==cell_types[j])\n",
    "        n_ct2 = sum(ct2_pos_inds)\n",
    "\n",
    "        grid = np.ix_(ct1_pos_inds, ct2_pos_inds)\n",
    "        close_num[i, j] += np.sum(dist_mat[grid]<distance_threshold)\n",
    "\n",
    "        for r in np.arange(bootstrap_num):\n",
    "            ct1_rand_inds = np.random.choice(np.arange(ncells), size=n_ct1, replace=True)\n",
    "            ct2_rand_inds = np.random.choice(np.arange(ncells), size=n_ct2, replace=True)\n",
    "            \n",
    "            grid = np.ix_(ct1_rand_inds, ct2_rand_inds)\n",
    "            close_rand[i, j, r] += np.sum(dist_mat[grid]<distance_threshold)\n",
    "            "
   ]
  },
  {
   "cell_type": "code",
   "execution_count": 120,
   "id": "fb23b64f",
   "metadata": {},
   "outputs": [],
   "source": [
    "z = np.zeros((ncell_types,ncell_types))\n",
    "muhat = np.zeros((ncell_types,ncell_types))\n",
    "sigmahat = np.zeros((ncell_types,ncell_types))\n",
    "p = np.zeros((ncell_types, ncell_types, 2))"
   ]
  },
  {
   "cell_type": "code",
   "execution_count": 121,
   "id": "bf288792",
   "metadata": {},
   "outputs": [],
   "source": [
    "for j in np.arange(ncell_types):\n",
    "    for k in np.arange(ncell_types):\n",
    "        \n",
    "        mu, sigma = norm.fit(close_rand[j,k,:])\n",
    "        muhat[j,k]=mu\n",
    "        sigmahat[j,k]=sigma\n",
    "        \n",
    "        z[j,k] = (close_num[j,k]-muhat[j,k])/sigmahat[j,k]\n",
    "        p[j,k,0] = (1+(sum(close_rand[j,k,:]>=close_num[j,k])))/(bootstrap_num+1)\n",
    "        p[j,k,1] = (1+(sum(close_rand[j,k,:]<=close_num[j,k])))/(bootstrap_num+1)\n"
   ]
  },
  {
   "cell_type": "code",
   "execution_count": 122,
   "id": "144fb92d",
   "metadata": {},
   "outputs": [],
   "source": [
    "# adjust p-values using FDR 0.05 (Inf or NaN will have p value 1)\n",
    "p_summary = p[:,:,1];\n",
    "for j in np.arange(ncell_types):\n",
    "    for k in np.arange(ncell_types):\n",
    "        # if interaction is enriched +z grab first p-value\n",
    "        if (z[j,k] > 0):\n",
    "            p_summary[j,k] = p[j,k,0];\n",
    "        # if interaction is avoided -z grab second p-value\n",
    "        elif (z[j,k] < 0):\n",
    "            p_summary[j,k] = p[j,k,1];\n",
    "        "
   ]
  },
  {
   "cell_type": "code",
   "execution_count": 123,
   "id": "3cc4ebf4",
   "metadata": {},
   "outputs": [],
   "source": [
    "h, crit_p, adj_ci_cvrg, adj_p = mt(p_summary, alpha=0.05, method='fdr_bh')"
   ]
  },
  {
   "cell_type": "code",
   "execution_count": 124,
   "id": "fa6f3bb1",
   "metadata": {},
   "outputs": [
    {
     "name": "stderr",
     "output_type": "stream",
     "text": [
      "/tmp/ipykernel_85963/1859720398.py:22: UserWarning: FixedFormatter should only be used together with FixedLocator\n",
      "  axmatrix.set_xticklabels(['']+[cell_types[i] for i in index])\n",
      "/tmp/ipykernel_85963/1859720398.py:23: UserWarning: FixedFormatter should only be used together with FixedLocator\n",
      "  axmatrix.set_yticklabels(['']+[cell_types[i] for i in index])\n",
      "/tmp/ipykernel_85963/1859720398.py:36: UserWarning: Matplotlib is currently using module://matplotlib_inline.backend_inline, which is a non-GUI backend, so cannot show the figure.\n",
      "  fig.show()\n"
     ]
    },
    {
     "data": {
      "image/png": "[encoded data removed]",
      "text/plain": [
       "<Figure size 432x288 with 3 Axes>"
      ]
     },
     "metadata": {
      "needs_background": "light"
     },
     "output_type": "display_data"
    }
   ],
   "source": [
    "import scipy\n",
    "import pylab\n",
    "import scipy.cluster.hierarchy as sch\n",
    "\n",
    "# Compute and plot dendrogram.\n",
    "fig = pylab.figure()\n",
    "axdendro = fig.add_axes([0.09,0.1,0.2,0.8])\n",
    "Y = sch.linkage(z, method='centroid')\n",
    "Z = sch.dendrogram(Y, orientation='left')\n",
    "axdendro.set_xticks([])\n",
    "axdendro.set_yticks([])\n",
    "\n",
    "# Plot distance matrix.\n",
    "axmatrix = fig.add_axes([0.3,0.1,0.6,0.8])\n",
    "index = Z['leaves']\n",
    "z = z[index,:]\n",
    "z = z[:,index]\n",
    "im = axmatrix.matshow(z, aspect='auto', origin='lower')\n",
    "#axmatrix.set_xticks([])\n",
    "#axmatrix.set_yticks([])\n",
    "\n",
    "axmatrix.set_xticklabels(['']+[cell_types[i] for i in index])\n",
    "axmatrix.set_yticklabels(['']+[cell_types[i] for i in index])\n",
    "\n",
    "axmatrix.yaxis.set_label_position(\"right\")\n",
    "axmatrix.yaxis.tick_right()\n",
    "\n",
    "plt.xticks(rotation=90)\n",
    "\n",
    "# Plot colorbar.\n",
    "axcolor = fig.add_axes([0.3,0.0,0.6,0.02])\n",
    "plt.colorbar(im, cax=axcolor,orientation='horizontal')\n",
    "\n",
    "\n",
    "# Display and save figure.\n",
    "fig.show()\n",
    "#fig.savefig('dendrogram.png')"
   ]
  },
  {
   "cell_type": "code",
   "execution_count": null,
   "id": "a7ced892",
   "metadata": {},
   "outputs": [],
   "source": []
  },
  {
   "cell_type": "code",
   "execution_count": null,
   "id": "697d525b",
   "metadata": {},
   "outputs": [],
   "source": []
  },
  {
   "cell_type": "code",
   "execution_count": null,
   "id": "256526f1",
   "metadata": {},
   "outputs": [],
   "source": []
  },
  {
   "cell_type": "code",
   "execution_count": null,
   "id": "d1934232",
   "metadata": {},
   "outputs": [],
   "source": []
  },
  {
   "cell_type": "code",
   "execution_count": null,
   "id": "bb4d8d65",
   "metadata": {},
   "outputs": [],
   "source": []
  },
  {
   "cell_type": "code",
   "execution_count": null,
   "id": "f34e6065",
   "metadata": {},
   "outputs": [],
   "source": []
  },
  {
   "cell_type": "code",
   "execution_count": null,
   "id": "2f3c8491",
   "metadata": {},
   "outputs": [],
   "source": []
  },
  {
   "cell_type": "code",
   "execution_count": null,
   "id": "31067b48",
   "metadata": {},
   "outputs": [],
   "source": []
  },
  {
   "cell_type": "code",
   "execution_count": null,
   "id": "71272379",
   "metadata": {},
   "outputs": [],
   "source": []
  },
  {
   "cell_type": "code",
   "execution_count": null,
   "id": "05a67590",
   "metadata": {},
   "outputs": [],
   "source": []
  },
  {
   "cell_type": "code",
   "execution_count": null,
   "id": "ffc4d94f",
   "metadata": {},
   "outputs": [],
   "source": []
  }
 ],
 "metadata": {
  "kernelspec": {
   "display_name": "Python 3 (ipykernel)",
   "language": "python",
   "name": "python3"
  },
  "language_info": {
   "codemirror_mode": {
    "name": "ipython",
    "version": 3
   },
   "file_extension": ".py",
   "mimetype": "text/x-python",
   "name": "python",
   "nbconvert_exporter": "python",
   "pygments_lexer": "ipython3",
   "version": "3.9.7"
  }
 },
 "nbformat": 4,
 "nbformat_minor": 5
}
