{
 "cells": [
  {
   "cell_type": "code",
   "execution_count": 9,
   "id": "8c7100f5",
   "metadata": {},
   "outputs": [],
   "source": [
    "from scipy.spatial import distance\n",
    "import pandas as pd\n",
    "import numba\n",
    "from numba import jit, prange\n",
    "import numpy as np\n",
    "import dask_distance as dd\n",
    "import dask.array as da\n",
    "from random import choices\n",
    "import time"
   ]
  },
  {
   "cell_type": "code",
   "execution_count": 10,
   "id": "f6b9fd50",
   "metadata": {},
   "outputs": [],
   "source": [
    "data = pd.read_csv(\"/media/austin/IPI_8plex_project/8plex/analysis/cell_data_tables/IPICRC058T1_8plex/IPICRC058T1_8plex_single_cell_data_gated_tumorannotated_20220131.csv\")\n",
    "in_tumor = 0 # 0 if analyzing stroma, 1 if analyzing tumor\n",
    "data = data[data['in_tumor']==in_tumor]\n",
    "ncells=len(data)"
   ]
  },
  {
   "cell_type": "code",
   "execution_count": 11,
   "id": "0bd9bad4",
   "metadata": {},
   "outputs": [],
   "source": [
    "centroid_coords = np.stack([data[data['in_tumor']==in_tumor]['centroid-0'],\n",
    "                            data[data['in_tumor']==in_tumor]['centroid-1']]).astype(np.float32).transpose()"
   ]
  },
  {
   "cell_type": "code",
   "execution_count": 12,
   "id": "ee8d6fc5",
   "metadata": {},
   "outputs": [
    {
     "name": "stderr",
     "output_type": "stream",
     "text": [
      "/home/austin/miniconda3/envs/workshop/lib/python3.9/site-packages/dask/array/core.py:4458: PerformanceWarning: Increasing number of chunks by factor of 11\n",
      "  result = blockwise(\n"
     ]
    }
   ],
   "source": [
    "dcentroid_coords = da.from_array(centroid_coords, chunks=len(centroid_coords)//10)\n",
    "dist_mat = dd.cdist(dcentroid_coords, dcentroid_coords, metric=\"euclidean\").astype(np.float32)"
   ]
  },
  {
   "cell_type": "code",
   "execution_count": 13,
   "id": "10152332",
   "metadata": {},
   "outputs": [],
   "source": [
    "cell_types = list(set(data.cell_type))\n",
    "try:\n",
    "    cell_types.remove('other')\n",
    "except KeyError:\n",
    "    pass\n",
    "ncell_types = len(cell_types)"
   ]
  },
  {
   "cell_type": "code",
   "execution_count": null,
   "id": "5e7b0d05",
   "metadata": {},
   "outputs": [],
   "source": []
  },
  {
   "cell_type": "code",
   "execution_count": 14,
   "id": "a862f316",
   "metadata": {},
   "outputs": [],
   "source": [
    "bootstrap_num = 1000\n",
    "close_num_rand = np.zeros((ncell_types, ncell_types, bootstrap_num))\n",
    "distance_threshold= 100"
   ]
  },
  {
   "cell_type": "code",
   "execution_count": null,
   "id": "019bb57f",
   "metadata": {},
   "outputs": [],
   "source": [
    "# build index dictionary so that truncated distance matrix only needs to be calculated once for all cell-cell pairs\n",
    "\n",
    "@njit(parallel=True)\n",
    "def sample_inds(ncells, n_ct1, n_ct2, bootstrap_num):\n",
    "    ct1_rand_inds = np.zeros((n_ct1,bootstrap_num))\n",
    "    ct2_rand_inds = np.zeros((n_ct2,bootstrap_num))\n",
    "        \n",
    "    for r in np.arange(bootstrap_num):\n",
    "        ct1_rand_inds[:,r] = np.random.choice(np.arange(ncells), size=n_ct1, replace=True)\n",
    "        ct2_rand_inds[:,r] = np.random.choice(np.arange(ncells), size=n_ct2, replace=True)\n",
    "    return [ct1_rand_inds, ct2_rand_inds]\n",
    "\n",
    "index_dictionary = {}\n",
    "rand_dictionary = {}\n",
    "\n",
    "for i in np.arange(ncell_types):\n",
    "    \n",
    "    ct1_pos_inds = (data['cell_type']==cell_types[i])\n",
    "    n_ct1 = sum(ct1_pos_inds)\n",
    "\n",
    "    for j in np.arange(ncell_types):\n",
    "        \n",
    "        ct2_pos_inds = (data['cell_type']==cell_types[j])\n",
    "        n_ct2 = sum(ct2_pos_inds)\n",
    "\n",
    "        index_dictionary[(i,j)] = [np.array(ct1_pos_inds), np.array(ct2_pos_inds)]\n",
    "        \n",
    "        rand_dictionary[i,j] = sample_inds(ncells, n_ct1, n_ct2, boostrap_num)"
   ]
  },
  {
   "cell_type": "code",
   "execution_count": null,
   "id": "ddb52ac9",
   "metadata": {},
   "outputs": [],
   "source": []
  },
  {
   "cell_type": "code",
   "execution_count": null,
   "id": "fb23b64f",
   "metadata": {},
   "outputs": [],
   "source": [
    "def count_close_interactions(dist_mat, index_dictionary, rand_dictionary, ncell_types, bootstrap_num, threshold=30):\n",
    "    \n",
    "    close_num = np.zeros((ncell_types, ncell_types), dtype=np.uint64)\n",
    "    close_rand = np.zeros((ncell_types, ncell_types, boostrap_num), dtype=np.uint64)\n",
    "    \n",
    "    chunkx, chunky = dist_mat.chunksize\n",
    "    max_x, max_y = dist_mat.shape\n",
    "    \n",
    "    rangex = np.arange(0,max_x-chunkx,chunkx)\n",
    "    if rangex[-1] != max_x-1:\n",
    "        np.append(rangex,max_x-1)\n",
    "        \n",
    "    rangey = np.arange(0,max_y-chunky,chunky)\n",
    "    if rangey[-1] != max_y-1:\n",
    "        np.append(rangey,max_y-1)\n",
    "        \n",
    "    \n",
    "    \n",
    "    for i in np.arange(len(rangex)-1):\n",
    "        for j in np.arange(len(rangey)-1):\n",
    "            \n",
    "            trunc_mat = dist_mat[rangex[i]:rangex[i+1], rangey[i]:rangey[i+1]].compute()\n",
    "            \n",
    "            for ct1_i, ct2_i in index_dictionary.keys():\n",
    "                \n",
    "                ct1_idx, ct2_idx = index_dictionary[ct1_i,ct2_i]\n",
    "                \n",
    "                ct1=ct1_idx[rangex[i]:rangex[i+1]]\n",
    "                ct2=ct2_idx[rangey[i]:rangey[i+1]]\n",
    "                grid = np.ix_(ct1, ct2)\n",
    "                close_num[ct1_i, ct2_i] += np.sum(trunc_mat[grid] < threshold)\n",
    "                \n",
    "                print(\"sampling {celltype1} and {celltype2}\".format(celltype1=i, celltype2=j))\n",
    "                ct1_rand, ct2_rand = rand_dictionary[ct1_i, ct2_i]\n",
    "                close_rand = sample_truncated_mat(trunc_mat, ct1_rand, ct2_rand, bootstrap_num, threshold, close_rand)\n",
    "            \n",
    "    return close_num, close_rand"
   ]
  },
  {
   "cell_type": "code",
   "execution_count": null,
   "id": "144fb92d",
   "metadata": {},
   "outputs": [],
   "source": [
    "@njit(parallel=True)\n",
    "def sample_truncated_mat(trunc_mat, ct1_rand_inds, ct2_rand_inds, bootstrap_num, threshold, close_rand):\n",
    "    \n",
    "    for r in prange(bootstrap_num):\n",
    "\n",
    "        ct1_idx = ct1_rand_inds[:,r]\n",
    "        ct2_idx = ct2_rand_inds[:,r]\n",
    "        ct1_idx_slice = ct1_idx[np.logical_and(ct1_idx>rangex[i], ct1_idx<rangex[i+1])]-rangex[i]\n",
    "        ct2_idx_slice = ct2_idx[np.logical_and(ct2_idx>rangey[i], ct2_idx<rangey[i+1])]-rangey[i]\n",
    "        if (len(ct1_idx_slice)>0) and (len(ct2_idx_slice)>0):\n",
    "            close_rand[ct1_i, ct2_i, r] += np.sum(numba_ix(trunc_mat, ct1_idx_slice, ct2_idx_slice) < threshold)\n",
    "    return close_rand"
   ]
  },
  {
   "cell_type": "code",
   "execution_count": null,
   "id": "3cc4ebf4",
   "metadata": {},
   "outputs": [],
   "source": [
    "@njit(parallel=True)\n",
    "def numba_ix(arr, rows, cols):\n",
    "    \"\"\"\n",
    "    Numba compatible implementation of arr[np.ix_(rows, cols)] for 2D arrays.\n",
    "    :param arr: 2D array to be indexed\n",
    "    :param rows: Row indices\n",
    "    :param cols: Column indices\n",
    "    :return: 2D array with the given rows and columns of the input array\n",
    "    \"\"\"\n",
    "    \n",
    "    one_d_index = np.zeros(len(rows) * len(cols), dtype=np.int32)\n",
    "    for i, r in enumerate(rows):\n",
    "        start = i * len(cols)\n",
    "        one_d_index[start: start + len(cols)] = cols + arr.shape[1] * r\n",
    "\n",
    "    arr_1d = arr.reshape((arr.shape[0] * arr.shape[1], 1))\n",
    "    slice_1d = np.take(arr_1d, one_d_index)\n",
    "    return slice_1d.reshape((len(rows), len(cols)))\n"
   ]
  },
  {
   "cell_type": "code",
   "execution_count": null,
   "id": "fa6f3bb1",
   "metadata": {},
   "outputs": [
    {
     "name": "stdout",
     "output_type": "stream",
     "text": [
      "sampling 0 and 0\n"
     ]
    }
   ],
   "source": [
    "start = time.time()\n",
    "close_num, close_rand = count_close_interactions(dist_mat, index_dictionary, rand_dictionary, ncell_types, boostrap_num, threshold=distance_threshold)\n",
    "end = time.time()\n",
    "print('Computation took {time_elapse} minutes'.format(time_elapse=(start-end)/60))"
   ]
  },
  {
   "cell_type": "code",
   "execution_count": 172,
   "id": "697d525b",
   "metadata": {},
   "outputs": [],
   "source": [
    "z = zeros(ncell_types)\n",
    "muhat = zeros(ncell_types)\n",
    "sigmahat = zeros(ncell_types)\n",
    "p = zeros((ncell_types, ncell_types, 2))"
   ]
  },
  {
   "cell_type": "code",
   "execution_count": 173,
   "id": "256526f1",
   "metadata": {},
   "outputs": [],
   "source": [
    "for j in np.arange(celltypeNum)\n",
    "    for k in np.arange(celltypeNum)\n",
    "\n",
    "        tmp= reshape(closeNumRand(j,k,:),BootstrapNum,1)\n",
    "        [muhat(j,k),sigmahat(j,k)] = normfit(tmp)\n",
    "        z(j,k) = (closeNum(j,k)-muhat(j,k))/sigmahat(j,k)\n",
    "        p(j,k,1) = (1+(sum(tmp>=closeNum(j,k))))/(BootstrapNum+1)\n",
    "        p(j,k,2) = (1+(sum(tmp<=closeNum(j,k))))/(BootstrapNum+1)\n"
   ]
  },
  {
   "cell_type": "code",
   "execution_count": 165,
   "id": "d1934232",
   "metadata": {},
   "outputs": [],
   "source": []
  },
  {
   "cell_type": "code",
   "execution_count": null,
   "id": "bb4d8d65",
   "metadata": {},
   "outputs": [],
   "source": []
  },
  {
   "cell_type": "code",
   "execution_count": null,
   "id": "f34e6065",
   "metadata": {},
   "outputs": [],
   "source": []
  },
  {
   "cell_type": "code",
   "execution_count": null,
   "id": "2f3c8491",
   "metadata": {},
   "outputs": [],
   "source": []
  },
  {
   "cell_type": "code",
   "execution_count": null,
   "id": "31067b48",
   "metadata": {},
   "outputs": [],
   "source": []
  },
  {
   "cell_type": "code",
   "execution_count": null,
   "id": "71272379",
   "metadata": {},
   "outputs": [],
   "source": []
  },
  {
   "cell_type": "code",
   "execution_count": null,
   "id": "05a67590",
   "metadata": {},
   "outputs": [],
   "source": []
  },
  {
   "cell_type": "code",
   "execution_count": null,
   "id": "ffc4d94f",
   "metadata": {},
   "outputs": [],
   "source": []
  }
 ],
 "metadata": {
  "kernelspec": {
   "display_name": "Python 3 (ipykernel)",
   "language": "python",
   "name": "python3"
  },
  "language_info": {
   "codemirror_mode": {
    "name": "ipython",
    "version": 3
   },
   "file_extension": ".py",
   "mimetype": "text/x-python",
   "name": "python",
   "nbconvert_exporter": "python",
   "pygments_lexer": "ipython3",
   "version": "3.9.7"
  }
 },
 "nbformat": 4,
 "nbformat_minor": 5
}
