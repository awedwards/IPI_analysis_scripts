{
 "cells": [
  {
   "cell_type": "code",
   "execution_count": 56,
   "id": "8c7100f5",
   "metadata": {},
   "outputs": [],
   "source": [
    "from scipy.spatial import distance\n",
    "import pandas as pd\n",
    "import numba\n",
    "from numba import njit, prange\n",
    "import numpy as np\n",
    "import dask_distance as dd\n",
    "import dask.array as da\n",
    "from random import choices\n",
    "import time\n",
    "from multiprocessing import Pool\n",
    "import sparse"
   ]
  },
  {
   "cell_type": "code",
   "execution_count": 57,
   "id": "f6b9fd50",
   "metadata": {},
   "outputs": [],
   "source": [
    "data = pd.read_csv(\"/media/austin/IPI_8plex_project/8plex/analysis/cell_data_tables/IPICRC058T1_8plex/IPICRC058T1_8plex_single_cell_data_gated_tumorannotated_20220131.csv\")\n",
    "in_tumor = 0 # 0 if analyzing stroma, 1 if analyzing tumor\n",
    "data = data[data['in_tumor']==in_tumor]\n",
    "ncells=len(data)\n",
    "\n",
    "cell_types = list(set(data.cell_type))\n",
    "try:\n",
    "    cell_types.remove('other')\n",
    "except KeyError:\n",
    "    pass\n",
    "ncell_types = len(cell_types)\n",
    "\n",
    "bootstrap_num = 1000\n",
    "close_num_rand = np.zeros((ncell_types, ncell_types, bootstrap_num))\n",
    "distance_threshold= 100"
   ]
  },
  {
   "cell_type": "code",
   "execution_count": 58,
   "id": "0bd9bad4",
   "metadata": {},
   "outputs": [],
   "source": [
    "centroid_coords = np.stack([data[data['in_tumor']==in_tumor]['centroid-0'],\n",
    "                            data[data['in_tumor']==in_tumor]['centroid-1']]).astype(np.float32).transpose()"
   ]
  },
  {
   "cell_type": "code",
   "execution_count": 59,
   "id": "ee8d6fc5",
   "metadata": {},
   "outputs": [
    {
     "name": "stderr",
     "output_type": "stream",
     "text": [
      "/home/austin/miniconda3/envs/workshop/lib/python3.9/site-packages/dask/array/core.py:4458: PerformanceWarning: Increasing number of chunks by factor of 21\n",
      "  result = blockwise(\n"
     ]
    }
   ],
   "source": [
    "dcentroid_coords = da.from_array(centroid_coords, chunks=(20000,20000))\n",
    "dist_mat = dd.cdist(dcentroid_coords, dcentroid_coords, metric=\"euclidean\").astype(np.float32)<distance_threshold"
   ]
  },
  {
   "cell_type": "code",
   "execution_count": null,
   "id": "d7c75eb8",
   "metadata": {},
   "outputs": [],
   "source": []
  },
  {
   "cell_type": "code",
   "execution_count": null,
   "id": "8de40619",
   "metadata": {},
   "outputs": [],
   "source": []
  },
  {
   "cell_type": "code",
   "execution_count": null,
   "id": "c5796df2",
   "metadata": {},
   "outputs": [],
   "source": []
  },
  {
   "cell_type": "code",
   "execution_count": null,
   "id": "9f439382",
   "metadata": {},
   "outputs": [],
   "source": []
  },
  {
   "cell_type": "code",
   "execution_count": 60,
   "id": "019bb57f",
   "metadata": {},
   "outputs": [],
   "source": [
    "# build index dictionary so that truncated distance matrix only needs to be calculated once for all cell-cell pairs\n",
    "\n",
    "@njit(parallel=True)\n",
    "def sample_inds(ncells, n_ct1, n_ct2, bootstrap_num):\n",
    "    ct1_rand_inds = np.zeros((n_ct1,bootstrap_num))\n",
    "    ct2_rand_inds = np.zeros((n_ct2,bootstrap_num))\n",
    "        \n",
    "    for r in prange(bootstrap_num):\n",
    "        ct1_rand_inds[:,r] = np.sort(np.random.choice(np.arange(ncells), size=n_ct1, replace=True))\n",
    "        ct2_rand_inds[:,r] = np.sort(np.random.choice(np.arange(ncells), size=n_ct2, replace=True))\n",
    "    return [ct1_rand_inds, ct2_rand_inds]\n",
    "\n",
    "index_dictionary = {}\n",
    "rand_dictionary = {}\n",
    "\n",
    "for i in np.arange(ncell_types):\n",
    "    \n",
    "    ct1_pos_inds = (data['cell_type']==cell_types[i])\n",
    "    n_ct1 = sum(ct1_pos_inds)\n",
    "\n",
    "    for j in np.arange(ncell_types):\n",
    "        \n",
    "        ct2_pos_inds = (data['cell_type']==cell_types[j])\n",
    "        n_ct2 = sum(ct2_pos_inds)\n",
    "\n",
    "        index_dictionary[(i,j)] = [np.array(ct1_pos_inds), np.array(ct2_pos_inds)]\n",
    "        \n",
    "        rand_dictionary[i,j] = sample_inds(ncells, n_ct1, n_ct2, bootstrap_num)"
   ]
  },
  {
   "cell_type": "code",
   "execution_count": 61,
   "id": "fb23b64f",
   "metadata": {},
   "outputs": [],
   "source": [
    "def count_close_interactions(dist_mat, index_dictionary, rand_dictionary, ncell_types, bootstrap_num, threshold):\n",
    "    \n",
    "    close_num = np.zeros((ncell_types, ncell_types), dtype=np.uint64)\n",
    "    close_rand = np.zeros((ncell_types, ncell_types, bootstrap_num), dtype=np.uint64)\n",
    "    \n",
    "    chunkx, chunky = dist_mat.chunksize\n",
    "    max_x, max_y = dist_mat.shape\n",
    "    \n",
    "    rangex = np.arange(0,max_x-chunkx,chunkx)\n",
    "    if rangex[-1] != max_x-1:\n",
    "        np.append(rangex,max_x-1)\n",
    "        \n",
    "    rangey = np.arange(0,max_y-chunky,chunky)\n",
    "    if rangey[-1] != max_y-1:\n",
    "        np.append(rangey,max_y-1)\n",
    "        \n",
    "    \n",
    "    for i in np.arange(len(rangex)-1):\n",
    "        for j in np.arange(len(rangey)-1):\n",
    "            \n",
    "            start = time.time()\n",
    "            \n",
    "            trunc_mat = dist_mat[rangex[i]:rangex[i+1], rangey[i]:rangey[i+1]].compute()\n",
    "            for ct1_i, ct2_i in index_dictionary.keys():\n",
    "                \n",
    "                ct1_idx, ct2_idx = index_dictionary[ct1_i,ct2_i]\n",
    "                \n",
    "                ct1=ct1_idx[rangex[i]:rangex[i+1]]\n",
    "                ct2=ct2_idx[rangey[j]:rangey[j+1]]\n",
    "                \n",
    "                grid = np.ix_(ct1, ct2)\n",
    "                close_num[ct1_i, ct2_i] += np.sum(trunc_mat[grid])\n",
    "                                \n",
    "                rand_ct1_idx, rand_ct2_idx = rand_dictionary[ct1_i, ct2_i]\n",
    "                \n",
    "                for r in np.arange(bootstrap_num):\n",
    "                    ct1_idx_r = rand_ct1_idx[:,r]\n",
    "                    ct2_idx_r = rand_ct2_idx[:,r]\n",
    "                    rand_ct1 = ct1_idx_r[np.logical_and(ct1_idx_r>rangex[i], ct1_idx_r<rangex[i+1])]-rangex[i]\n",
    "                    rand_ct2 = ct2_idx_r[np.logical_and(ct2_idx_r>rangey[j], ct2_idx_r<rangey[j+1])]-rangey[j]\n",
    "    \n",
    "                    close_rand[ct1_i, ct2_i, r] += np.sum(numba_ix(trunc_mat, rand_ct1, rand_ct2))\n",
    "            end = time.time()\n",
    "            \n",
    "            print(i, j, (end-start)/60)\n",
    "    return close_num, close_rand"
   ]
  },
  {
   "cell_type": "code",
   "execution_count": null,
   "id": "bf288792",
   "metadata": {},
   "outputs": [],
   "source": []
  },
  {
   "cell_type": "code",
   "execution_count": null,
   "id": "144fb92d",
   "metadata": {},
   "outputs": [],
   "source": []
  },
  {
   "cell_type": "code",
   "execution_count": 62,
   "id": "3cc4ebf4",
   "metadata": {},
   "outputs": [],
   "source": [
    "@njit(parallel=True)\n",
    "def numba_ix(arr, rows, cols):\n",
    "    \"\"\"\n",
    "    Numba compatible implementation of arr[np.ix_(rows, cols)] for 2D arrays.\n",
    "    :param arr: 2D array to be indexed\n",
    "    :param rows: Row indices\n",
    "    :param cols: Column indices\n",
    "    :return: 2D array with the given rows and columns of the input array\n",
    "    \"\"\"\n",
    "    \n",
    "    one_d_index = np.zeros(len(rows) * len(cols), dtype=np.int32)\n",
    "    for i, r in enumerate(rows):\n",
    "        start = i * len(cols)\n",
    "        one_d_index[start: start + len(cols)] = cols + arr.shape[1] * r\n",
    "\n",
    "    arr_1d = arr.reshape((arr.shape[0] * arr.shape[1], 1))\n",
    "    slice_1d = np.take(arr_1d, one_d_index)\n",
    "    return slice_1d.reshape((len(rows), len(cols)))\n"
   ]
  },
  {
   "cell_type": "code",
   "execution_count": 63,
   "id": "fa6f3bb1",
   "metadata": {},
   "outputs": [
    {
     "name": "stdout",
     "output_type": "stream",
     "text": [
      "0 0 142.08189049164454\n"
     ]
    },
    {
     "ename": "IndexError",
     "evalue": "Index out of bounds",
     "output_type": "error",
     "traceback": [
      "\u001b[0;31m---------------------------------------------------------------------------\u001b[0m",
      "\u001b[0;31mIndexError\u001b[0m                                Traceback (most recent call last)",
      "\u001b[0;32m/tmp/ipykernel_26451/3472415540.py\u001b[0m in \u001b[0;36m<module>\u001b[0;34m\u001b[0m\n\u001b[1;32m      1\u001b[0m \u001b[0mstart\u001b[0m \u001b[0;34m=\u001b[0m \u001b[0mtime\u001b[0m\u001b[0;34m.\u001b[0m\u001b[0mtime\u001b[0m\u001b[0;34m(\u001b[0m\u001b[0;34m)\u001b[0m\u001b[0;34m\u001b[0m\u001b[0;34m\u001b[0m\u001b[0m\n\u001b[0;32m----> 2\u001b[0;31m \u001b[0mclose_num\u001b[0m\u001b[0;34m,\u001b[0m \u001b[0mclose_rand\u001b[0m \u001b[0;34m=\u001b[0m \u001b[0mcount_close_interactions\u001b[0m\u001b[0;34m(\u001b[0m\u001b[0mdist_mat\u001b[0m\u001b[0;34m,\u001b[0m \u001b[0mindex_dictionary\u001b[0m\u001b[0;34m,\u001b[0m \u001b[0mrand_dictionary\u001b[0m\u001b[0;34m,\u001b[0m \u001b[0mncell_types\u001b[0m\u001b[0;34m,\u001b[0m \u001b[0mbootstrap_num\u001b[0m\u001b[0;34m,\u001b[0m \u001b[0mthreshold\u001b[0m\u001b[0;34m=\u001b[0m\u001b[0mdistance_threshold\u001b[0m\u001b[0;34m)\u001b[0m\u001b[0;34m\u001b[0m\u001b[0;34m\u001b[0m\u001b[0m\n\u001b[0m\u001b[1;32m      3\u001b[0m \u001b[0mend\u001b[0m \u001b[0;34m=\u001b[0m \u001b[0mtime\u001b[0m\u001b[0;34m.\u001b[0m\u001b[0mtime\u001b[0m\u001b[0;34m(\u001b[0m\u001b[0;34m)\u001b[0m\u001b[0;34m\u001b[0m\u001b[0;34m\u001b[0m\u001b[0m\n\u001b[1;32m      4\u001b[0m \u001b[0mprint\u001b[0m\u001b[0;34m(\u001b[0m\u001b[0;34m'Computation took {time_elapse} minutes'\u001b[0m\u001b[0;34m.\u001b[0m\u001b[0mformat\u001b[0m\u001b[0;34m(\u001b[0m\u001b[0mtime_elapse\u001b[0m\u001b[0;34m=\u001b[0m\u001b[0;34m(\u001b[0m\u001b[0mend\u001b[0m\u001b[0;34m-\u001b[0m\u001b[0mstart\u001b[0m\u001b[0;34m)\u001b[0m\u001b[0;34m/\u001b[0m\u001b[0;36m60\u001b[0m\u001b[0;34m)\u001b[0m\u001b[0;34m)\u001b[0m\u001b[0;34m\u001b[0m\u001b[0;34m\u001b[0m\u001b[0m\n",
      "\u001b[0;32m/tmp/ipykernel_26451/3739155754.py\u001b[0m in \u001b[0;36mcount_close_interactions\u001b[0;34m(dist_mat, index_dictionary, rand_dictionary, ncell_types, bootstrap_num, threshold)\u001b[0m\n\u001b[1;32m     40\u001b[0m                     \u001b[0mrand_ct2\u001b[0m \u001b[0;34m=\u001b[0m \u001b[0mct2_idx_r\u001b[0m\u001b[0;34m[\u001b[0m\u001b[0mnp\u001b[0m\u001b[0;34m.\u001b[0m\u001b[0mlogical_and\u001b[0m\u001b[0;34m(\u001b[0m\u001b[0mct2_idx_r\u001b[0m\u001b[0;34m>\u001b[0m\u001b[0mrangey\u001b[0m\u001b[0;34m[\u001b[0m\u001b[0mj\u001b[0m\u001b[0;34m]\u001b[0m\u001b[0;34m,\u001b[0m \u001b[0mct2_idx_r\u001b[0m\u001b[0;34m<\u001b[0m\u001b[0mrangey\u001b[0m\u001b[0;34m[\u001b[0m\u001b[0mj\u001b[0m\u001b[0;34m+\u001b[0m\u001b[0;36m1\u001b[0m\u001b[0;34m]\u001b[0m\u001b[0;34m)\u001b[0m\u001b[0;34m]\u001b[0m\u001b[0;34m-\u001b[0m\u001b[0mrangey\u001b[0m\u001b[0;34m[\u001b[0m\u001b[0mi\u001b[0m\u001b[0;34m]\u001b[0m\u001b[0;34m\u001b[0m\u001b[0;34m\u001b[0m\u001b[0m\n\u001b[1;32m     41\u001b[0m \u001b[0;34m\u001b[0m\u001b[0m\n\u001b[0;32m---> 42\u001b[0;31m                     \u001b[0mclose_rand\u001b[0m\u001b[0;34m[\u001b[0m\u001b[0mct1_i\u001b[0m\u001b[0;34m,\u001b[0m \u001b[0mct2_i\u001b[0m\u001b[0;34m,\u001b[0m \u001b[0mr\u001b[0m\u001b[0;34m]\u001b[0m \u001b[0;34m+=\u001b[0m \u001b[0mnp\u001b[0m\u001b[0;34m.\u001b[0m\u001b[0msum\u001b[0m\u001b[0;34m(\u001b[0m\u001b[0mnumba_ix\u001b[0m\u001b[0;34m(\u001b[0m\u001b[0mtrunc_mat\u001b[0m\u001b[0;34m,\u001b[0m \u001b[0mrand_ct1\u001b[0m\u001b[0;34m,\u001b[0m \u001b[0mrand_ct2\u001b[0m\u001b[0;34m)\u001b[0m\u001b[0;34m)\u001b[0m\u001b[0;34m\u001b[0m\u001b[0;34m\u001b[0m\u001b[0m\n\u001b[0m\u001b[1;32m     43\u001b[0m             \u001b[0mend\u001b[0m \u001b[0;34m=\u001b[0m \u001b[0mtime\u001b[0m\u001b[0;34m.\u001b[0m\u001b[0mtime\u001b[0m\u001b[0;34m(\u001b[0m\u001b[0;34m)\u001b[0m\u001b[0;34m\u001b[0m\u001b[0;34m\u001b[0m\u001b[0m\n\u001b[1;32m     44\u001b[0m \u001b[0;34m\u001b[0m\u001b[0m\n",
      "\u001b[0;32m~/miniconda3/envs/workshop/lib/python3.9/site-packages/numba/np/arrayobj.py\u001b[0m in \u001b[0;36mtake_impl\u001b[0;34m()\u001b[0m\n\u001b[1;32m   3930\u001b[0m         \u001b[0;32mfor\u001b[0m \u001b[0mx\u001b[0m \u001b[0;32min\u001b[0m \u001b[0mit\u001b[0m\u001b[0;34m:\u001b[0m\u001b[0;34m\u001b[0m\u001b[0;34m\u001b[0m\u001b[0m\n\u001b[1;32m   3931\u001b[0m             \u001b[0;32mif\u001b[0m \u001b[0mx\u001b[0m \u001b[0;34m>\u001b[0m \u001b[0;34m(\u001b[0m\u001b[0ma\u001b[0m\u001b[0;34m.\u001b[0m\u001b[0msize\u001b[0m \u001b[0;34m-\u001b[0m \u001b[0;36m1\u001b[0m\u001b[0;34m)\u001b[0m \u001b[0;32mor\u001b[0m \u001b[0mx\u001b[0m \u001b[0;34m<\u001b[0m \u001b[0;34m-\u001b[0m\u001b[0ma\u001b[0m\u001b[0;34m.\u001b[0m\u001b[0msize\u001b[0m\u001b[0;34m:\u001b[0m\u001b[0;34m\u001b[0m\u001b[0;34m\u001b[0m\u001b[0m\n\u001b[0;32m-> 3932\u001b[0;31m                 \u001b[0;32mraise\u001b[0m \u001b[0mIndexError\u001b[0m\u001b[0;34m(\u001b[0m\u001b[0;34m\"Index out of bounds\"\u001b[0m\u001b[0;34m)\u001b[0m\u001b[0;34m\u001b[0m\u001b[0;34m\u001b[0m\u001b[0m\n\u001b[0m\u001b[1;32m   3933\u001b[0m             \u001b[0mret\u001b[0m\u001b[0;34m[\u001b[0m\u001b[0mi\u001b[0m\u001b[0;34m]\u001b[0m \u001b[0;34m=\u001b[0m \u001b[0mflat\u001b[0m\u001b[0;34m[\u001b[0m\u001b[0mx\u001b[0m\u001b[0;34m]\u001b[0m\u001b[0;34m\u001b[0m\u001b[0;34m\u001b[0m\u001b[0m\n\u001b[1;32m   3934\u001b[0m             \u001b[0mi\u001b[0m \u001b[0;34m=\u001b[0m \u001b[0mi\u001b[0m \u001b[0;34m+\u001b[0m \u001b[0;36m1\u001b[0m\u001b[0;34m\u001b[0m\u001b[0;34m\u001b[0m\u001b[0m\n",
      "\u001b[0;31mIndexError\u001b[0m: Index out of bounds"
     ]
    }
   ],
   "source": [
    "start = time.time()\n",
    "close_num, close_rand = count_close_interactions(dist_mat, index_dictionary, rand_dictionary, ncell_types, bootstrap_num, threshold=distance_threshold)\n",
    "end = time.time()\n",
    "print('Computation took {time_elapse} minutes'.format(time_elapse=(end-start)/60))"
   ]
  },
  {
   "cell_type": "code",
   "execution_count": 64,
   "id": "a7ced892",
   "metadata": {},
   "outputs": [
    {
     "data": {
      "text/plain": [
       "648"
      ]
     },
     "execution_count": 64,
     "metadata": {},
     "output_type": "execute_result"
    }
   ],
   "source": [
    "2*(18*18)"
   ]
  },
  {
   "cell_type": "code",
   "execution_count": null,
   "id": "697d525b",
   "metadata": {},
   "outputs": [],
   "source": [
    "z = zeros(ncell_types)\n",
    "muhat = zeros(ncell_types)\n",
    "sigmahat = zeros(ncell_types)\n",
    "p = zeros((ncell_types, ncell_types, 2))"
   ]
  },
  {
   "cell_type": "code",
   "execution_count": 173,
   "id": "256526f1",
   "metadata": {},
   "outputs": [],
   "source": [
    "for j in np.arange(celltypeNum)\n",
    "    for k in np.arange(celltypeNum)\n",
    "\n",
    "        tmp= reshape(closeNumRand(j,k,:),BootstrapNum,1)\n",
    "        [muhat(j,k),sigmahat(j,k)] = normfit(tmp)\n",
    "        z(j,k) = (closeNum(j,k)-muhat(j,k))/sigmahat(j,k)\n",
    "        p(j,k,1) = (1+(sum(tmp>=closeNum(j,k))))/(BootstrapNum+1)\n",
    "        p(j,k,2) = (1+(sum(tmp<=closeNum(j,k))))/(BootstrapNum+1)\n"
   ]
  },
  {
   "cell_type": "code",
   "execution_count": 41,
   "id": "d1934232",
   "metadata": {},
   "outputs": [
    {
     "data": {
      "text/html": [
       "<table>\n",
       "    <tr>\n",
       "        <td>\n",
       "            <table>\n",
       "                <thead>\n",
       "                    <tr>\n",
       "                        <td> </td>\n",
       "                        <th> Array </th>\n",
       "                        <th> Chunk </th>\n",
       "                    </tr>\n",
       "                </thead>\n",
       "                <tbody>\n",
       "                    \n",
       "                    <tr>\n",
       "                        <th> Bytes </th>\n",
       "                        <td> 597.57 GiB </td>\n",
       "                        <td> 95.37 MiB </td>\n",
       "                    </tr>\n",
       "                    \n",
       "                    <tr>\n",
       "                        <th> Shape </th>\n",
       "                        <td> (400511, 400511) </td>\n",
       "                        <td> (5000, 5000) </td>\n",
       "                    </tr>\n",
       "                    <tr>\n",
       "                        <th> Count </th>\n",
       "                        <td> 46332 Tasks </td>\n",
       "                        <td> 6561 Chunks </td>\n",
       "                    </tr>\n",
       "                    <tr>\n",
       "                    <th> Type </th>\n",
       "                    <td> float32 </td>\n",
       "                    <td> numpy.ndarray </td>\n",
       "                    </tr>\n",
       "                </tbody>\n",
       "            </table>\n",
       "        </td>\n",
       "        <td>\n",
       "        <svg width=\"170\" height=\"170\" style=\"stroke:rgb(0,0,0);stroke-width:1\" >\n",
       "\n",
       "  <!-- Horizontal lines -->\n",
       "  <line x1=\"0\" y1=\"0\" x2=\"120\" y2=\"0\" style=\"stroke-width:2\" />\n",
       "  <line x1=\"0\" y1=\"5\" x2=\"120\" y2=\"5\" />\n",
       "  <line x1=\"0\" y1=\"11\" x2=\"120\" y2=\"11\" />\n",
       "  <line x1=\"0\" y1=\"17\" x2=\"120\" y2=\"17\" />\n",
       "  <line x1=\"0\" y1=\"25\" x2=\"120\" y2=\"25\" />\n",
       "  <line x1=\"0\" y1=\"31\" x2=\"120\" y2=\"31\" />\n",
       "  <line x1=\"0\" y1=\"37\" x2=\"120\" y2=\"37\" />\n",
       "  <line x1=\"0\" y1=\"43\" x2=\"120\" y2=\"43\" />\n",
       "  <line x1=\"0\" y1=\"50\" x2=\"120\" y2=\"50\" />\n",
       "  <line x1=\"0\" y1=\"56\" x2=\"120\" y2=\"56\" />\n",
       "  <line x1=\"0\" y1=\"62\" x2=\"120\" y2=\"62\" />\n",
       "  <line x1=\"0\" y1=\"68\" x2=\"120\" y2=\"68\" />\n",
       "  <line x1=\"0\" y1=\"76\" x2=\"120\" y2=\"76\" />\n",
       "  <line x1=\"0\" y1=\"82\" x2=\"120\" y2=\"82\" />\n",
       "  <line x1=\"0\" y1=\"88\" x2=\"120\" y2=\"88\" />\n",
       "  <line x1=\"0\" y1=\"94\" x2=\"120\" y2=\"94\" />\n",
       "  <line x1=\"0\" y1=\"101\" x2=\"120\" y2=\"101\" />\n",
       "  <line x1=\"0\" y1=\"107\" x2=\"120\" y2=\"107\" />\n",
       "  <line x1=\"0\" y1=\"113\" x2=\"120\" y2=\"113\" />\n",
       "  <line x1=\"0\" y1=\"120\" x2=\"120\" y2=\"120\" style=\"stroke-width:2\" />\n",
       "\n",
       "  <!-- Vertical lines -->\n",
       "  <line x1=\"0\" y1=\"0\" x2=\"0\" y2=\"120\" style=\"stroke-width:2\" />\n",
       "  <line x1=\"5\" y1=\"0\" x2=\"5\" y2=\"120\" />\n",
       "  <line x1=\"11\" y1=\"0\" x2=\"11\" y2=\"120\" />\n",
       "  <line x1=\"17\" y1=\"0\" x2=\"17\" y2=\"120\" />\n",
       "  <line x1=\"25\" y1=\"0\" x2=\"25\" y2=\"120\" />\n",
       "  <line x1=\"31\" y1=\"0\" x2=\"31\" y2=\"120\" />\n",
       "  <line x1=\"37\" y1=\"0\" x2=\"37\" y2=\"120\" />\n",
       "  <line x1=\"43\" y1=\"0\" x2=\"43\" y2=\"120\" />\n",
       "  <line x1=\"50\" y1=\"0\" x2=\"50\" y2=\"120\" />\n",
       "  <line x1=\"56\" y1=\"0\" x2=\"56\" y2=\"120\" />\n",
       "  <line x1=\"62\" y1=\"0\" x2=\"62\" y2=\"120\" />\n",
       "  <line x1=\"68\" y1=\"0\" x2=\"68\" y2=\"120\" />\n",
       "  <line x1=\"76\" y1=\"0\" x2=\"76\" y2=\"120\" />\n",
       "  <line x1=\"82\" y1=\"0\" x2=\"82\" y2=\"120\" />\n",
       "  <line x1=\"88\" y1=\"0\" x2=\"88\" y2=\"120\" />\n",
       "  <line x1=\"94\" y1=\"0\" x2=\"94\" y2=\"120\" />\n",
       "  <line x1=\"101\" y1=\"0\" x2=\"101\" y2=\"120\" />\n",
       "  <line x1=\"107\" y1=\"0\" x2=\"107\" y2=\"120\" />\n",
       "  <line x1=\"113\" y1=\"0\" x2=\"113\" y2=\"120\" />\n",
       "  <line x1=\"120\" y1=\"0\" x2=\"120\" y2=\"120\" style=\"stroke-width:2\" />\n",
       "\n",
       "  <!-- Colored Rectangle -->\n",
       "  <polygon points=\"0.0,0.0 120.0,0.0 120.0,120.0 0.0,120.0\" style=\"fill:#8B4903A0;stroke-width:0\"/>\n",
       "\n",
       "  <!-- Text -->\n",
       "  <text x=\"60.000000\" y=\"140.000000\" font-size=\"1.0rem\" font-weight=\"100\" text-anchor=\"middle\" >400511</text>\n",
       "  <text x=\"140.000000\" y=\"60.000000\" font-size=\"1.0rem\" font-weight=\"100\" text-anchor=\"middle\" transform=\"rotate(-90,140.000000,60.000000)\">400511</text>\n",
       "</svg>\n",
       "        </td>\n",
       "    </tr>\n",
       "</table>"
      ],
      "text/plain": [
       "dask.array<astype, shape=(400511, 400511), dtype=float32, chunksize=(5000, 5000), chunktype=numpy.ndarray>"
      ]
     },
     "execution_count": 41,
     "metadata": {},
     "output_type": "execute_result"
    }
   ],
   "source": [
    "dist_mat"
   ]
  },
  {
   "cell_type": "code",
   "execution_count": null,
   "id": "bb4d8d65",
   "metadata": {},
   "outputs": [],
   "source": []
  },
  {
   "cell_type": "code",
   "execution_count": null,
   "id": "f34e6065",
   "metadata": {},
   "outputs": [],
   "source": []
  },
  {
   "cell_type": "code",
   "execution_count": null,
   "id": "2f3c8491",
   "metadata": {},
   "outputs": [],
   "source": []
  },
  {
   "cell_type": "code",
   "execution_count": null,
   "id": "31067b48",
   "metadata": {},
   "outputs": [],
   "source": []
  },
  {
   "cell_type": "code",
   "execution_count": null,
   "id": "71272379",
   "metadata": {},
   "outputs": [],
   "source": []
  },
  {
   "cell_type": "code",
   "execution_count": null,
   "id": "05a67590",
   "metadata": {},
   "outputs": [],
   "source": []
  },
  {
   "cell_type": "code",
   "execution_count": null,
   "id": "ffc4d94f",
   "metadata": {},
   "outputs": [],
   "source": []
  }
 ],
 "metadata": {
  "kernelspec": {
   "display_name": "Python 3 (ipykernel)",
   "language": "python",
   "name": "python3"
  },
  "language_info": {
   "codemirror_mode": {
    "name": "ipython",
    "version": 3
   },
   "file_extension": ".py",
   "mimetype": "text/x-python",
   "name": "python",
   "nbconvert_exporter": "python",
   "pygments_lexer": "ipython3",
   "version": "3.9.7"
  }
 },
 "nbformat": 4,
 "nbformat_minor": 5
}
