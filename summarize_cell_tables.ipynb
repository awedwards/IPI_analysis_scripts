{
 "cells": [
  {
   "cell_type": "code",
   "execution_count": 68,
   "metadata": {},
   "outputs": [],
   "source": [
    "from ipi_utils import get_newest_cell_data as gn\n",
    "from pathlib import Path\n",
    "import pandas as pd\n",
    "import numpy as np"
   ]
  },
  {
   "cell_type": "code",
   "execution_count": 69,
   "metadata": {},
   "outputs": [],
   "source": [
    "root_dir = Path(\"F://ucsf/bidc/IPI/analysis/cell_data_tables/\")"
   ]
  },
  {
   "cell_type": "code",
   "execution_count": 88,
   "metadata": {},
   "outputs": [],
   "source": [
    "data_list = dict()\n",
    "\n",
    "for d in root_dir.iterdir():\n",
    "    if d.is_dir():\n",
    "        data_path = gn(d)\n",
    "\n",
    "        sample = d.name\n",
    "        \n",
    "        if data_path is None: continue\n",
    "        \n",
    "        data = pd.read_csv(data_path)\n",
    "        data_list[sample] = dict(data['cell_type'].value_counts())\n",
    "counts = pd.DataFrame(data=data_list).transpose()"
   ]
  },
  {
   "cell_type": "code",
   "execution_count": 89,
   "metadata": {},
   "outputs": [],
   "source": [
    "counts.to_csv(Path(root_dir, \"cell_counts.csv\"))"
   ]
  },
  {
   "cell_type": "code",
   "execution_count": 91,
   "metadata": {},
   "outputs": [],
   "source": [
    "freqs = counts.transpose()/np.sum(counts, axis=1).values\n",
    "freqs = freqs.transpose()"
   ]
  },
  {
   "cell_type": "code",
   "execution_count": 95,
   "metadata": {},
   "outputs": [],
   "source": [
    "freqs.to_csv(Path(root_dir, \"cell_freqs.csv\"))"
   ]
  },
  {
   "cell_type": "code",
   "execution_count": null,
   "metadata": {},
   "outputs": [],
   "source": []
  }
 ],
 "metadata": {
  "kernelspec": {
   "display_name": "Python 3",
   "language": "python",
   "name": "python3"
  },
  "language_info": {
   "codemirror_mode": {
    "name": "ipython",
    "version": 3
   },
   "file_extension": ".py",
   "mimetype": "text/x-python",
   "name": "python",
   "nbconvert_exporter": "python",
   "pygments_lexer": "ipython3",
   "version": "3.7.3"
  }
 },
 "nbformat": 4,
 "nbformat_minor": 4
}
