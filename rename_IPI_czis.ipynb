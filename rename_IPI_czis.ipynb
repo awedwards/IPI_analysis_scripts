{
 "cells": [
  {
   "cell_type": "code",
   "execution_count": 158,
   "id": "5fe387a3",
   "metadata": {},
   "outputs": [],
   "source": [
    "import re\n",
    "import shutil\n",
    "from pathlib import Path"
   ]
  },
  {
   "cell_type": "code",
   "execution_count": 162,
   "id": "c07e7873",
   "metadata": {},
   "outputs": [],
   "source": [
    "datadir = Path(\"/media/austin/IPI_8plex_project/8plex/data/\")\n",
    "pattern = r\"(IPI)?([A-Z]{3,4})\\s?([0-9]{2,3})[\\s|.]?(T[1-2]-?2?)?[\\s|_]?(secion|section)?[_|\\s]?([A-C])?[\\s|\\_]?(8plex)?\\.czi\""
   ]
  },
  {
   "cell_type": "code",
   "execution_count": 163,
   "id": "ff5728a4",
   "metadata": {},
   "outputs": [],
   "source": [
    "czi_files = datadir.glob(\"*.czi\")"
   ]
  },
  {
   "cell_type": "code",
   "execution_count": 164,
   "id": "b35fdbba",
   "metadata": {
    "scrolled": false
   },
   "outputs": [],
   "source": [
    "for f in czi_files:\n",
    "    \n",
    "    try:\n",
    "\n",
    "        res = re.search(pattern,f.name)\n",
    "        indication = res.groups()[1]\n",
    "        sample_id = res.groups()[2]\n",
    "        tumor = res.groups()[3]\n",
    "        if tumor is None:\n",
    "            tumor = \"T1\"\n",
    "\n",
    "        try:\n",
    "            section = \"_\" + res.groups()[4] + res.groups()[5]\n",
    "        except TypeError:\n",
    "            section = \"\"\n",
    "        new_name = \"IPI{}{:0>3d}{}{}_8plex.czi\".format(indication, int(sample_id),tumor,section)\n",
    "    \n",
    "        f.rename(Path(f.parent, new_name))\n",
    "    except AttributeError:\n",
    "        continue"
   ]
  },
  {
   "cell_type": "code",
   "execution_count": 74,
   "id": "9c482bbf",
   "metadata": {},
   "outputs": [
    {
     "data": {
      "text/plain": [
       "(None, 'LUNG', '88', None, None, None)"
      ]
     },
     "execution_count": 74,
     "metadata": {},
     "output_type": "execute_result"
    }
   ],
   "source": []
  },
  {
   "cell_type": "code",
   "execution_count": 41,
   "id": "96c6985b",
   "metadata": {},
   "outputs": [
    {
     "data": {
      "text/plain": [
       "'LUNG'"
      ]
     },
     "execution_count": 41,
     "metadata": {},
     "output_type": "execute_result"
    }
   ],
   "source": []
  },
  {
   "cell_type": "code",
   "execution_count": null,
   "id": "dce8e6d5",
   "metadata": {},
   "outputs": [],
   "source": []
  }
 ],
 "metadata": {
  "kernelspec": {
   "display_name": "Python 3 (ipykernel)",
   "language": "python",
   "name": "python3"
  },
  "language_info": {
   "codemirror_mode": {
    "name": "ipython",
    "version": 3
   },
   "file_extension": ".py",
   "mimetype": "text/x-python",
   "name": "python",
   "nbconvert_exporter": "python",
   "pygments_lexer": "ipython3",
   "version": "3.9.6"
  }
 },
 "nbformat": 4,
 "nbformat_minor": 5
}
