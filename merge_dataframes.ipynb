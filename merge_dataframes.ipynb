{
 "cells": [
  {
   "cell_type": "code",
   "execution_count": 1,
   "id": "2fdbd57e",
   "metadata": {},
   "outputs": [],
   "source": [
    "import pandas as pd\n",
    "from pathlib import Path"
   ]
  },
  {
   "cell_type": "code",
   "execution_count": 2,
   "id": "c2d632db",
   "metadata": {},
   "outputs": [],
   "source": [
    "sample = \"IPIKID078\"\n",
    "\n",
    "df1 = pd.read_csv(\"/media/austin/DrosophilaMelanogaster/IPI/8plex/analysis/04_0_cell_typed/\"+sample+\"/cell_table_arcsinh_transformed_stitched_gated_phenotyped.csv\")\n",
    "df2 = pd.read_csv(\"/media/austin/DrosophilaMelanogaster/IPI/8plex/analysis/04_1_tumor_analysis/\"+sample+\"/cell_table_arcsinh_transformed_stitched_gated_tumorannotated.csv\")\n",
    "\n",
    "savepath = Path(\"/media/austin/DrosophilaMelanogaster/IPI/8plex/analysis/05_complete/\",sample)"
   ]
  },
  {
   "cell_type": "code",
   "execution_count": 3,
   "id": "37cb0cc4",
   "metadata": {},
   "outputs": [],
   "source": [
    "new = pd.merge(df1, df2)\n",
    "new.drop(['Unnamed: 0', 'Unnamed: 0.1', 'Unnamed: 0.1.1'],axis=1)\n",
    "\n",
    "try:\n",
    "    Path.mkdir(savepath)\n",
    "except FileExistsError:\n",
    "    pass"
   ]
  },
  {
   "cell_type": "code",
   "execution_count": 4,
   "id": "2f3551d8",
   "metadata": {},
   "outputs": [],
   "source": [
    "new.to_csv(Path(savepath, \"cell_table_arcsinh_transformed_stitched_gated_phenotyped_tumorannotated.csv\"))"
   ]
  },
  {
   "cell_type": "code",
   "execution_count": null,
   "id": "31bf404b",
   "metadata": {},
   "outputs": [],
   "source": []
  }
 ],
 "metadata": {
  "kernelspec": {
   "display_name": "Python 3 (ipykernel)",
   "language": "python",
   "name": "python3"
  },
  "language_info": {
   "codemirror_mode": {
    "name": "ipython",
    "version": 3
   },
   "file_extension": ".py",
   "mimetype": "text/x-python",
   "name": "python",
   "nbconvert_exporter": "python",
   "pygments_lexer": "ipython3",
   "version": "3.9.6"
  }
 },
 "nbformat": 4,
 "nbformat_minor": 5
}
