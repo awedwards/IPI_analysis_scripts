{
 "cells": [
  {
   "cell_type": "code",
   "execution_count": 5,
   "id": "1a1becc2",
   "metadata": {},
   "outputs": [],
   "source": [
    "import pandas as pd\n",
    "from pathlib import Path\n",
    "import shutil"
   ]
  },
  {
   "cell_type": "code",
   "execution_count": 6,
   "id": "1b038f4f",
   "metadata": {},
   "outputs": [
    {
     "data": {
      "text/plain": [
       "PosixPath('../to_be_gated/IPICRC072/cell_table_arcsinh_transformed_stitched.csv')"
      ]
     },
     "execution_count": 6,
     "metadata": {},
     "output_type": "execute_result"
    }
   ],
   "source": [
    "sample = \"IPICRC072\"\n",
    "\n",
    "datadir = Path(\"../\" + sample)\n",
    "cell_table_path = Path(datadir, \"cell_table_arcsinh_transformed_stitched.csv\")\n",
    "brightfield_path = Path(\"/media/austin/DrosophilaMelanogaster/IPI/8plex/Brightfield/CRC 72 BF/\")\n",
    "df = pd.read_csv(cell_table_path)\n",
    "image_dir = Path(datadir, \"input_data\",\"single_channel_inputs\")\n",
    "\n",
    "gated_dir = Path(\"../to_be_gated\")\n",
    "try:\n",
    "    Path.mkdir(Path(gated_dir,sample))\n",
    "except FileExistsError:\n",
    "    pass\n",
    "\n",
    "shutil.copyfile(cell_table_path, Path(gated_dir, sample, \"cell_table_arcsinh_transformed_stitched.csv\"))"
   ]
  },
  {
   "cell_type": "code",
   "execution_count": 7,
   "id": "e649dcc0",
   "metadata": {},
   "outputs": [],
   "source": [
    "if sample.startswith(\"IPICRC\"):\n",
    "    channels = ['DAPI','CD163','CD3','CD4','CD8','EPCAM','PDL1','XCR1','HLADR']\n",
    "else:\n",
    "    channels = ['DAPI','CD163','CD3','CD4','CD8','PanCK','PDL1','XCR1','HLADR']"
   ]
  },
  {
   "cell_type": "code",
   "execution_count": 8,
   "id": "b377a07e",
   "metadata": {},
   "outputs": [],
   "source": [
    "medians = df.groupby(['fov']).median()"
   ]
  },
  {
   "cell_type": "code",
   "execution_count": 9,
   "id": "c16e0dcd",
   "metadata": {},
   "outputs": [],
   "source": [
    "for chan in channels:\n",
    "    \n",
    "    top_10 = medians[chan].sort_values(ascending=False)[0:10].index\n",
    "    \n",
    "    try:\n",
    "        Path.mkdir(Path(gated_dir,sample,chan))\n",
    "    except FileExistsError:\n",
    "        pass\n",
    "    \n",
    "    for fov in top_10:\n",
    "        im_path = Path(image_dir, fov, \"TIFs\", chan+\".tiff\")\n",
    "        shutil.copy(im_path, Path(gated_dir,sample,chan, fov+\".tiff\"))\n",
    "        \n",
    "        if chan == 'PDL1':\n",
    "            bf_im_path = Path(brightfield_path, fov, \"Brightfield.tiff\")\n",
    "            shutil.copy(bf_im_path, Path(gated_dir, sample, chan, fov + \"_bf.tiff\"))"
   ]
  },
  {
   "cell_type": "code",
   "execution_count": null,
   "id": "17da4dbc",
   "metadata": {
    "collapsed": true
   },
   "outputs": [],
   "source": [
    "\n"
   ]
  },
  {
   "cell_type": "code",
   "execution_count": null,
   "id": "099ac000",
   "metadata": {},
   "outputs": [],
   "source": []
  }
 ],
 "metadata": {
  "kernelspec": {
   "display_name": "Python 3 (ipykernel)",
   "language": "python",
   "name": "python3"
  },
  "language_info": {
   "codemirror_mode": {
    "name": "ipython",
    "version": 3
   },
   "file_extension": ".py",
   "mimetype": "text/x-python",
   "name": "python",
   "nbconvert_exporter": "python",
   "pygments_lexer": "ipython3",
   "version": "3.9.6"
  }
 },
 "nbformat": 4,
 "nbformat_minor": 5
}
