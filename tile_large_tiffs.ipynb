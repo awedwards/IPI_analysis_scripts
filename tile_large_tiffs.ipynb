{
 "cells": [
  {
   "cell_type": "code",
   "execution_count": 2,
   "metadata": {},
   "outputs": [],
   "source": [
    "import numpy as np\n",
    "from numpy import random as rd\n",
    "import tifffile as tf\n",
    "from pathlib import Path"
   ]
  },
  {
   "cell_type": "code",
   "execution_count": 3,
   "metadata": {},
   "outputs": [],
   "source": [
    "rootdir = \"/home/austin/data/MIT_collab/exported_data/L_batch1/\"\n",
    "files = [fp for fp in Path(rootdir).glob(\"*.tiff*\")]"
   ]
  },
  {
   "cell_type": "code",
   "execution_count": 4,
   "metadata": {},
   "outputs": [],
   "source": [
    "is_single_channel = False\n",
    "channels = ['Treg','CD8','nuc','DC']"
   ]
  },
  {
   "cell_type": "code",
   "execution_count": 5,
   "metadata": {
    "scrolled": true
   },
   "outputs": [],
   "source": [
    "tile_size = 2048\n",
    "padding = 0.0 # Add\n",
    "\n",
    "for f in files:\n",
    "    \n",
    "    if not is_single_channel:\n",
    "        expdir = Path(rootdir, f.name[:-5])\n",
    "        try:\n",
    "            Path.mkdir(expdir)\n",
    "        except FileExistsError:\n",
    "            pass\n",
    "    else:\n",
    "        expdir = rootdir\n",
    "        \n",
    "    data = tf.TiffFile(f).asarray()\n",
    "    \n",
    "    if len(data.shape) > 2:\n",
    "        if is_single_channel:\n",
    "            if len(np.where(data[:,:,0]-data[:,:,1])[0]) != 0 :\n",
    "                raise('Split channels')\n",
    "            else:\n",
    "                image_data = data[:,:,0]\n",
    "                w,h=data.shape\n",
    "                c=0\n",
    "        else:\n",
    "            c,w,h = data.shape\n",
    "\n",
    "    \n",
    "    rows = list(np.arange(0,w,tile_size))\n",
    "    cols = list(np.arange(0,h,tile_size))\n",
    "    \n",
    "    for ch in np.arange(c):\n",
    "        \n",
    "        fov = 0\n",
    "        \n",
    "        if not is_single_channel:\n",
    "            image_data = data[ch,:,:]\n",
    "\n",
    "        for x in rows:\n",
    "\n",
    "            if w-x < tile_size:\n",
    "                x_end = w\n",
    "            else:\n",
    "                x_end = x+tile_size\n",
    "\n",
    "            for y in cols:\n",
    "\n",
    "                # create empty tile, useful for padding out incomplete tiles at the edges with zeros\n",
    "                tile = np.zeros((tile_size, tile_size))\n",
    "\n",
    "                if h-y < tile_size:\n",
    "                    y_end = h\n",
    "                else:\n",
    "                    y_end = y+tile_size\n",
    "\n",
    "                tile[0:x_end-x, 0:y_end-y] = image_data[x:x_end, y:y_end]\n",
    "\n",
    "                savedir = Path(expdir, 'fov' + str(fov))\n",
    "\n",
    "                try:\n",
    "                    Path.mkdir(savedir)\n",
    "                except FileExistsError:\n",
    "                    pass\n",
    "\n",
    "                if is_single_channel:\n",
    "                    tf.imsave(str(Path(savedir, f.name.split(\".\")[0] + \".tiff\")), tile)\n",
    "                else:\n",
    "                    tf.imsave(str(Path(savedir, channels[ch] + \".tiff\")), tile)\n",
    "\n",
    "                with open(Path(expdir, \"tile_metadata.txt\"), \"a\") as metadata_f:\n",
    "                    metadata_f.write(\",\".join([\"fov\" + str(fov), str(x), str(x_end), str(y), str(y_end)]) + \"\\n\")\n",
    "\n",
    "                fov += 1"
   ]
  },
  {
   "cell_type": "code",
   "execution_count": 4,
   "metadata": {},
   "outputs": [
    {
     "data": {
      "text/plain": [
       "'BSCMYX'"
      ]
     },
     "execution_count": 4,
     "metadata": {},
     "output_type": "execute_result"
    }
   ],
   "source": [
    "czi."
   ]
  },
  {
   "cell_type": "code",
   "execution_count": null,
   "metadata": {},
   "outputs": [],
   "source": []
  },
  {
   "cell_type": "code",
   "execution_count": null,
   "metadata": {},
   "outputs": [],
   "source": []
  },
  {
   "cell_type": "code",
   "execution_count": null,
   "metadata": {},
   "outputs": [],
   "source": []
  },
  {
   "cell_type": "code",
   "execution_count": null,
   "metadata": {},
   "outputs": [],
   "source": []
  },
  {
   "cell_type": "code",
   "execution_count": null,
   "metadata": {},
   "outputs": [],
   "source": []
  },
  {
   "cell_type": "code",
   "execution_count": null,
   "metadata": {},
   "outputs": [],
   "source": []
  },
  {
   "cell_type": "code",
   "execution_count": null,
   "metadata": {},
   "outputs": [],
   "source": []
  }
 ],
 "metadata": {
  "kernelspec": {
   "display_name": "Python 3 (ipykernel)",
   "language": "python",
   "name": "python3"
  },
  "language_info": {
   "codemirror_mode": {
    "name": "ipython",
    "version": 3
   },
   "file_extension": ".py",
   "mimetype": "text/x-python",
   "name": "python",
   "nbconvert_exporter": "python",
   "pygments_lexer": "ipython3",
   "version": "3.9.6"
  }
 },
 "nbformat": 4,
 "nbformat_minor": 4
}
