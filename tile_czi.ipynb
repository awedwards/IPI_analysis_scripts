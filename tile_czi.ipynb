{
 "cells": [
  {
   "cell_type": "code",
   "execution_count": 14,
   "metadata": {},
   "outputs": [],
   "source": [
    "from aicspylibczi import CziFile\n",
    "import numpy as np\n",
    "from numpy import random as rd\n",
    "import tifffile as tf\n",
    "from pathlib import Path\n",
    "\n",
    "from matplotlib import pyplot as plt"
   ]
  },
  {
   "cell_type": "code",
   "execution_count": 15,
   "metadata": {},
   "outputs": [],
   "source": [
    "rootdir = \"/media/austin/DrosophilaMelanogaster/IPI/8plex/Brightfield/\"\n",
    "#files = Path(rootdir).glob(\"*czi\")\n",
    "files = [\"CRC 72 BF.czi\"]"
   ]
  },
  {
   "cell_type": "code",
   "execution_count": null,
   "metadata": {},
   "outputs": [],
   "source": []
  },
  {
   "cell_type": "code",
   "execution_count": null,
   "metadata": {},
   "outputs": [],
   "source": []
  },
  {
   "cell_type": "code",
   "execution_count": null,
   "metadata": {},
   "outputs": [],
   "source": []
  },
  {
   "cell_type": "code",
   "execution_count": null,
   "metadata": {},
   "outputs": [],
   "source": []
  },
  {
   "cell_type": "code",
   "execution_count": 19,
   "metadata": {
    "scrolled": false
   },
   "outputs": [
    {
     "name": "stdout",
     "output_type": "stream",
     "text": [
      "Reading CRC 72 BF.czi\n",
      "Reading Brightfield channel\n"
     ]
    }
   ],
   "source": [
    "#channels = ['DAPI','FoxP3','CD4','CD45','CD8']\n",
    "#channels = ['DAPI','HLADR','CD8','CD163','CD4','XCR1','CD3','PDL1','PanCK']\n",
    "channels=['Brightfield']\n",
    "is_bf = True\n",
    "tile_size = 2048\n",
    "\n",
    "for f in files:\n",
    "    \n",
    "    f = Path(rootdir, f)\n",
    "    czi = CziFile(f)\n",
    "    im_shape = czi.get_dims_shape()\n",
    "    \n",
    "    if not is_bf:\n",
    "        \n",
    "        nchannels = im_shape[0]['C'][1]\n",
    "        assert(len(channels)==nchannels)\n",
    "    elif is_bf:\n",
    "        \n",
    "        nchannels = 1\n",
    "\n",
    "    expdir = Path(rootdir, f.stem)\n",
    "    try:\n",
    "        Path.mkdir(expdir)\n",
    "    except FileExistsError: pass\n",
    "\n",
    "    print(\"Reading \" + f.name)\n",
    "\n",
    "    for c in np.arange(nchannels):\n",
    "        \n",
    "        fov = 0\n",
    "        print(\"Reading \" + channels[c] + \" channel\")    \n",
    "        im = czi.read_mosaic(C=c)\n",
    "        \n",
    "        if is_bf:\n",
    "            _,w,h,rgb = im.shape\n",
    "        else:\n",
    "            _,w,h = im.shape\n",
    "\n",
    "        rows = list(np.arange(0,w,tile_size))\n",
    "        cols = list(np.arange(0,h,tile_size))\n",
    "        \n",
    "\n",
    "        for x in rows:\n",
    "\n",
    "            if w-x < tile_size:\n",
    "                x_end = w\n",
    "            else:\n",
    "                x_end = x+tile_size\n",
    "\n",
    "            for y in cols:\n",
    "                \n",
    "                \n",
    "                # create empty tile, useful for padding out incomplete tiles at the edges with zeros\n",
    "\n",
    "                if is_bf:\n",
    "                    tile = np.zeros((tile_size, tile_size, 3))\n",
    "                else:\n",
    "                    tile = np.zeros((tile_size, tile_size))\n",
    "\n",
    "                if h-y < tile_size:\n",
    "                    y_end = h\n",
    "                else:\n",
    "                    y_end = y+tile_size\n",
    "                    \n",
    "                if is_bf:\n",
    "                    tile[0:x_end-x, 0:y_end-y,:] = im[0, x:x_end, y:y_end,:]\n",
    "                else:\n",
    "                    tile[0:x_end-x, 0:y_end-y] = im[0, x:x_end, y:y_end]\n",
    "\n",
    "\n",
    "                savedir = Path(expdir, 'fov' + str(fov))\n",
    "\n",
    "                try:\n",
    "                    Path.mkdir(savedir)\n",
    "                except FileExistsError:\n",
    "                    pass\n",
    "                \n",
    "                tf.imsave(str(Path(savedir, channels[c] + \".tiff\")), tile)\n",
    "\n",
    "                if c==0:\n",
    "                    with open(Path(expdir, \"tile_metadata.txt\"), \"a\") as f:\n",
    "                        f.write(\",\".join([\"fov\" + str(fov), str(x), str(x_end), str(y), str(y_end)]) + \"\\n\")\n",
    "\n",
    "                fov += 1"
   ]
  },
  {
   "cell_type": "code",
   "execution_count": 18,
   "metadata": {},
   "outputs": [
    {
     "data": {
      "text/plain": [
       "(1, 23910, 16012, 3)"
      ]
     },
     "execution_count": 18,
     "metadata": {},
     "output_type": "execute_result"
    }
   ],
   "source": [
    "im.shape"
   ]
  },
  {
   "cell_type": "code",
   "execution_count": null,
   "metadata": {},
   "outputs": [],
   "source": []
  },
  {
   "cell_type": "code",
   "execution_count": null,
   "metadata": {},
   "outputs": [],
   "source": []
  },
  {
   "cell_type": "code",
   "execution_count": null,
   "metadata": {},
   "outputs": [],
   "source": []
  },
  {
   "cell_type": "code",
   "execution_count": null,
   "metadata": {},
   "outputs": [],
   "source": []
  },
  {
   "cell_type": "code",
   "execution_count": null,
   "metadata": {},
   "outputs": [],
   "source": []
  },
  {
   "cell_type": "code",
   "execution_count": null,
   "metadata": {},
   "outputs": [],
   "source": []
  },
  {
   "cell_type": "code",
   "execution_count": null,
   "metadata": {},
   "outputs": [],
   "source": []
  }
 ],
 "metadata": {
  "kernelspec": {
   "display_name": "Python 3 (ipykernel)",
   "language": "python",
   "name": "python3"
  },
  "language_info": {
   "codemirror_mode": {
    "name": "ipython",
    "version": 3
   },
   "file_extension": ".py",
   "mimetype": "text/x-python",
   "name": "python",
   "nbconvert_exporter": "python",
   "pygments_lexer": "ipython3",
   "version": "3.9.6"
  }
 },
 "nbformat": 4,
 "nbformat_minor": 4
}
