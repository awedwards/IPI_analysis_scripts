{
 "cells": [
  {
   "cell_type": "code",
   "execution_count": 2,
   "id": "2d4d0294",
   "metadata": {},
   "outputs": [],
   "source": [
    "import pandas as pd\n",
    "import numpy as np\n",
    "from pathlib import Path"
   ]
  },
  {
   "cell_type": "code",
   "execution_count": 3,
   "id": "6d22850c",
   "metadata": {},
   "outputs": [],
   "source": [
    "sample = \"IPIHNSC065\"\n",
    "df = pd.read_csv(\"/media/austin/DrosophilaMelanogaster/IPI/8plex/analysis/03_gated/\"+sample+\"/HNSC 65 8plex_single_cell_data_gated20211216.csv\")"
   ]
  },
  {
   "cell_type": "code",
   "execution_count": 7,
   "id": "e4d943df",
   "metadata": {},
   "outputs": [
    {
     "name": "stderr",
     "output_type": "stream",
     "text": [
      "/tmp/ipykernel_191114/1462391037.py:2: SettingWithCopyWarning: \n",
      "A value is trying to be set on a copy of a slice from a DataFrame\n",
      "\n",
      "See the caveats in the documentation: https://pandas.pydata.org/pandas-docs/stable/user_guide/indexing.html#returning-a-view-versus-a-copy\n",
      "  df['cell_type'][(df['CD4_expressed']==1) & (df['CD3_expressed']==1) &  (df['HLADR_expressed']==0)] = 'CD4'\n",
      "/tmp/ipykernel_191114/1462391037.py:3: SettingWithCopyWarning: \n",
      "A value is trying to be set on a copy of a slice from a DataFrame\n",
      "\n",
      "See the caveats in the documentation: https://pandas.pydata.org/pandas-docs/stable/user_guide/indexing.html#returning-a-view-versus-a-copy\n",
      "  df['cell_type'][(df['CD8_expressed']==1) & (df['CD3_expressed']==1) &  (df['HLADR_expressed']==0)] = 'CD8'\n",
      "/tmp/ipykernel_191114/1462391037.py:4: SettingWithCopyWarning: \n",
      "A value is trying to be set on a copy of a slice from a DataFrame\n",
      "\n",
      "See the caveats in the documentation: https://pandas.pydata.org/pandas-docs/stable/user_guide/indexing.html#returning-a-view-versus-a-copy\n",
      "  df['cell_type'][(df['CD163_expressed']==1) &  (df['HLADR_expressed']==1) & (df['CD3_expressed']==0)] = 'mac'\n",
      "/tmp/ipykernel_191114/1462391037.py:5: SettingWithCopyWarning: \n",
      "A value is trying to be set on a copy of a slice from a DataFrame\n",
      "\n",
      "See the caveats in the documentation: https://pandas.pydata.org/pandas-docs/stable/user_guide/indexing.html#returning-a-view-versus-a-copy\n",
      "  df['cell_type'][(df['XCR1_expressed']==1) &  (df['HLADR_expressed']==1)] = 'cdc1'\n",
      "/tmp/ipykernel_191114/1462391037.py:6: SettingWithCopyWarning: \n",
      "A value is trying to be set on a copy of a slice from a DataFrame\n",
      "\n",
      "See the caveats in the documentation: https://pandas.pydata.org/pandas-docs/stable/user_guide/indexing.html#returning-a-view-versus-a-copy\n",
      "  df['cell_type'][(df['CD3_expressed']==1) & (df['CD4_expressed']==0) & (df['CD8_expressed']==0) & (df['HLADR_expressed']==0)] = 'gamma_delta'\n"
     ]
    }
   ],
   "source": [
    "df['cell_type'] = ['other']*len(df)\n",
    "df['cell_type'][(df['CD4_expressed']==1) & (df['CD3_expressed']==1) &  (df['HLADR_expressed']==0)] = 'CD4'\n",
    "df['cell_type'][(df['CD8_expressed']==1) & (df['CD3_expressed']==1) &  (df['HLADR_expressed']==0)] = 'CD8'\n",
    "df['cell_type'][(df['CD163_expressed']==1) &  (df['HLADR_expressed']==1) & (df['CD3_expressed']==0)] = 'mac'\n",
    "df['cell_type'][(df['XCR1_expressed']==1) &  (df['HLADR_expressed']==1)] = 'cdc1'\n",
    "df['cell_type'][(df['CD3_expressed']==1) & (df['CD4_expressed']==0) & (df['CD8_expressed']==0) & (df['HLADR_expressed']==0)] = 'gamma_delta'\n",
    "df.to_csv(\"/media/austin/DrosophilaMelanogaster/IPI/8plex/analysis/03_gated/\" + sample+ \"/cell_table_arcsinh_transformed_stitched_gated_phenotyped.csv\")"
   ]
  },
  {
   "cell_type": "code",
   "execution_count": 11,
   "id": "3d0ca022",
   "metadata": {},
   "outputs": [
    {
     "data": {
      "text/plain": [
       "array([False, False, False, ..., False, False, False])"
      ]
     },
     "execution_count": 11,
     "metadata": {},
     "output_type": "execute_result"
    }
   ],
   "source": [
    "idx = (df['CD4_expressed']==1) & (df['CD3_expressed']==1) &  (df['HLADR_expressed']==0)\n",
    "idx.values"
   ]
  },
  {
   "cell_type": "code",
   "execution_count": 20,
   "id": "7c240da9",
   "metadata": {},
   "outputs": [
    {
     "data": {
      "text/plain": [
       "7251"
      ]
     },
     "execution_count": 20,
     "metadata": {},
     "output_type": "execute_result"
    }
   ],
   "source": [
    "sum(df['CD3_expressed']==1)"
   ]
  },
  {
   "cell_type": "code",
   "execution_count": 12,
   "id": "89f68250",
   "metadata": {},
   "outputs": [
    {
     "data": {
      "text/plain": [
       "0.09840486311074546"
      ]
     },
     "execution_count": 12,
     "metadata": {},
     "output_type": "execute_result"
    }
   ],
   "source": [
    "sum((df['XCR1_expressed']==1) & (df['HLADR_expressed']==1))/len(df)"
   ]
  },
  {
   "cell_type": "code",
   "execution_count": null,
   "id": "22e54657",
   "metadata": {},
   "outputs": [],
   "source": []
  }
 ],
 "metadata": {
  "kernelspec": {
   "display_name": "Python 3 (ipykernel)",
   "language": "python",
   "name": "python3"
  },
  "language_info": {
   "codemirror_mode": {
    "name": "ipython",
    "version": 3
   },
   "file_extension": ".py",
   "mimetype": "text/x-python",
   "name": "python",
   "nbconvert_exporter": "python",
   "pygments_lexer": "ipython3",
   "version": "3.9.6"
  }
 },
 "nbformat": 4,
 "nbformat_minor": 5
}
