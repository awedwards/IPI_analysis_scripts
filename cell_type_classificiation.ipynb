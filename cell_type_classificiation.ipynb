{
 "cells": [
  {
   "cell_type": "code",
   "execution_count": 126,
   "metadata": {},
   "outputs": [],
   "source": [
    "import pandas as pd\n",
    "import numpy as np\n",
    "from pathlib import Path\n",
    "from datetime import datetime\n",
    "import re"
   ]
  },
  {
   "cell_type": "code",
   "execution_count": 127,
   "metadata": {},
   "outputs": [],
   "source": [
    "data_tables_dir = Path(\"F://ucsf/bidc/IPI/analysis/cell_data_tables/\")\n",
    "samples = [f.name for f in data_tables_dir.iterdir()]"
   ]
  },
  {
   "cell_type": "code",
   "execution_count": 128,
   "metadata": {},
   "outputs": [],
   "source": [
    "cell_types = ['double_neg_t_cell',\n",
    "              'cd4_t_cell',\n",
    "              'cd8_t_cell',\n",
    "              'mac',\n",
    "              'cdc1',\n",
    "              'other_myeloid_and_b_cells',\n",
    "              'double_pos_t_cell']\n",
    "\n",
    "today = datetime.today().strftime('%Y%m%d')"
   ]
  },
  {
   "cell_type": "code",
   "execution_count": 129,
   "metadata": {},
   "outputs": [
    {
     "name": "stdout",
     "output_type": "stream",
     "text": [
      "Classifying  IPICRC048T1_8plex\n",
      "Classifying  IPICRC053T1_8plex\n",
      "Classifying  IPICRC055T1_8plex\n",
      "Classifying  IPICRC057T1_8plex\n",
      "Classifying  IPICRC058T1_8plex\n",
      "Classifying  IPICRC062T1_8plex\n",
      "Classifying  IPICRC063T1_8plex\n",
      "Classifying  IPICRC072\n",
      "Classifying  IPICRC075T1_8plex\n",
      "Classifying  IPICRC076T1_8plex\n",
      "Classifying  IPICRC077T1_8plex\n",
      "Classifying  IPICRC083T1_sectionA_8plex\n",
      "Classifying  IPICRC083T1_sectionB_8plex\n",
      "Classifying  IPICRC085T1_8plex\n",
      "Classifying  IPICRC086T1_sectionA_8plex\n",
      "Classifying  IPICRC086T1_sectionB_8plex\n",
      "Classifying  IPICRC087T1_8plex\n",
      "Classifying  IPICRC088T1_8plex\n",
      "Classifying  IPIHNSC060\n",
      "Classifying  IPIHNSC065\n",
      "Classifying  IPIHNSC069\n",
      "Classifying  IPIKID047\n",
      "Classifying  IPIKID051\n",
      "Classifying  IPIKID069\n",
      "Classifying  IPIKID073\n",
      "Classifying  IPIKID078\n",
      "Classifying  IPILUNG074\n",
      "Classifying  IPILUNG081\n"
     ]
    }
   ],
   "source": [
    "for d in samples:\n",
    "\n",
    "    dir_path = Path(data_tables_dir, d)\n",
    "    if dir_path.is_dir():\n",
    "        \n",
    "        print(\"Classifying \",d)\n",
    "        \n",
    "        #find most current file\n",
    "        file_dict = {}\n",
    "        for file in dir_path.iterdir():\n",
    "            #look for 8-character date string\n",
    "            res = re.search(\"\\d{8}\",file.name)\n",
    "            \n",
    "            if res is not None:\n",
    "                file_dict[res[0]] = file.name\n",
    "                \n",
    "        data_path = Path(dir_path,file_dict[max(file_dict.keys())])\n",
    "        \n",
    "        data = pd.read_csv(data_path)\n",
    "        data['cell_type'] = ['other']*len(data)\n",
    "        \n",
    "\n",
    "        ct_idx = np.zeros((len(data), len(cell_types)))\n",
    "        \n",
    "        \n",
    "        ct_idx[:,0]= (data['DAPI_expressed']==1) & \\\n",
    "                    (data['CD3_expressed']==1) & \\\n",
    "                    (data['CD4_expressed']==0) & \\\n",
    "                    (data['CD8_expressed']==0) & \\\n",
    "                    (data['XCR1_expressed']==0)\n",
    "\n",
    "        ct_idx[:,1]=(data['DAPI_expressed']==1) & \\\n",
    "                    (data['CD4_expressed']==1) & \\\n",
    "                    (data['CD3_expressed']==1) & \\\n",
    "                    (data['CD8_expressed']==0) & \\\n",
    "                    (data['XCR1_expressed']==0)\n",
    "\n",
    "        ct_idx[:,2]=(data['DAPI_expressed']==1) & \\\n",
    "                    (data['CD8_expressed']==1) & \\\n",
    "                    (data['CD3_expressed']==1) & \\\n",
    "                    (data['CD8_expressed']==0) & \\\n",
    "                    (data['XCR1_expressed']==0)\n",
    "\n",
    "        ct_idx[:,3]=(data['DAPI_expressed']==1) & \\\n",
    "                    (data['CD163_expressed']==1) & \\\n",
    "                    (data['HLADR_expressed']==1) & \\\n",
    "                    (data['XCR1_expressed']==0) & \\\n",
    "                    (data['CD3_expressed']==0)\n",
    "\n",
    "        ct_idx[:,4]=(data['DAPI_expressed']==1) & \\\n",
    "                    (data['XCR1_expressed']==1) & \\\n",
    "                    (data['HLADR_expressed']==1) & \\\n",
    "                    (data['CD3_expressed']==0) & \\\n",
    "                    (data['CD163_expressed']==0)\n",
    "\n",
    "        ct_idx[:,5]=(data['DAPI_expressed']==1) & \\\n",
    "                    (data['HLADR_expressed']==1) & \\\n",
    "                    (data['CD163_expressed']==0) & \\\n",
    "                    (data['CD3_expressed']==0) & \\\n",
    "                    (data['XCR1_expressed']==0)\n",
    "\n",
    "        ct_idx[:,6]=(data['DAPI_expressed']==1) & \\\n",
    "                    (data['CD3_expressed']==1) & \\\n",
    "                    (data['CD4_expressed']==1) & \\\n",
    "                    (data['CD8_expressed']==1)& \\\n",
    "                    (data['XCR1_expressed']==0)\n",
    "\n",
    "        assigned_twice = np.sum(ct_idx,axis=1)>1\n",
    "        \n",
    "        for i,ct in enumerate(cell_types):\n",
    "            \n",
    "            data.loc[ct_idx[:,i],'cell_type']=ct\n",
    "            \n",
    "        data.loc[assigned_twice,'cell_type'] = 'assigned_twice'\n",
    "        \n",
    "        data.to_csv(Path(dir_path, f\"{d}_single_cell_data_{today}.csv\"), index=None)"
   ]
  },
  {
   "cell_type": "code",
   "execution_count": 119,
   "metadata": {},
   "outputs": [
    {
     "data": {
      "text/plain": [
       "'20220303'"
      ]
     },
     "execution_count": 119,
     "metadata": {},
     "output_type": "execute_result"
    }
   ],
   "source": []
  },
  {
   "cell_type": "code",
   "execution_count": 69,
   "metadata": {},
   "outputs": [],
   "source": []
  },
  {
   "cell_type": "code",
   "execution_count": 76,
   "metadata": {},
   "outputs": [],
   "source": []
  },
  {
   "cell_type": "code",
   "execution_count": null,
   "metadata": {},
   "outputs": [],
   "source": []
  },
  {
   "cell_type": "code",
   "execution_count": null,
   "metadata": {},
   "outputs": [],
   "source": []
  }
 ],
 "metadata": {
  "kernelspec": {
   "display_name": "Python 3",
   "language": "python",
   "name": "python3"
  },
  "language_info": {
   "codemirror_mode": {
    "name": "ipython",
    "version": 3
   },
   "file_extension": ".py",
   "mimetype": "text/x-python",
   "name": "python",
   "nbconvert_exporter": "python",
   "pygments_lexer": "ipython3",
   "version": "3.7.3"
  }
 },
 "nbformat": 4,
 "nbformat_minor": 5
}
