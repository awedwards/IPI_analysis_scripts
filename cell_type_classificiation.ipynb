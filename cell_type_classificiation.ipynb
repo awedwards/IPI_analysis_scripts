{
 "cells": [
  {
   "cell_type": "code",
   "execution_count": 3,
   "id": "6f20ba5c",
   "metadata": {},
   "outputs": [],
   "source": [
    "import pandas as pd\n",
    "import numpy as np\n",
    "from pathlib import Path\n",
    "from datetime import datetime\n",
    "import re\n",
    "\n",
    "from ipi_utils import get_newest_cell_data as gn"
   ]
  },
  {
   "cell_type": "code",
   "execution_count": 4,
   "id": "5973b649",
   "metadata": {},
   "outputs": [],
   "source": [
    "data_tables_dir = Path(\"/media/austin/IPI_8plex_project/8plex/analysis/cell_data_tables/\")\n",
    "samples = [f.name for f in data_tables_dir.iterdir()]"
   ]
  },
  {
   "cell_type": "code",
   "execution_count": 5,
   "id": "c30994c8",
   "metadata": {},
   "outputs": [],
   "source": [
    "cell_types = ['double_neg_t_cell',\n",
    "              'cd4_t_cell',\n",
    "              'cd8_t_cell',\n",
    "              'mac',\n",
    "              'cdc1',\n",
    "              'other_myeloid_and_b_cells',\n",
    "              'double_pos_t_cell',\n",
    "              'xcr1_cd163_double_pos']\n",
    "\n",
    "today = datetime.today().strftime('%Y%m%d')"
   ]
  },
  {
   "cell_type": "code",
   "execution_count": null,
   "id": "bd5b4407",
   "metadata": {},
   "outputs": [
    {
     "name": "stdout",
     "output_type": "stream",
     "text": [
      "Classifying  IPICRC086T1_sectionA_8plex\n"
     ]
    },
    {
     "name": "stderr",
     "output_type": "stream",
     "text": [
      "/tmp/ipykernel_2637860/3727284770.py:18: DeprecationWarning: `np.bool` is a deprecated alias for the builtin `bool`. To silence this warning, use `bool` by itself. Doing this will not modify any behavior and is safe. If you specifically wanted the numpy scalar type, use `np.bool_` here.\n",
      "Deprecated in NumPy 1.20; for more details and guidance: https://numpy.org/devdocs/release/1.20.0-notes.html#deprecations\n",
      "  ct_idx = np.zeros((len(data), len(cell_types)),dtype=np.bool)\n"
     ]
    },
    {
     "name": "stdout",
     "output_type": "stream",
     "text": [
      "0\n",
      "Classifying  IPICRC048T1_8plex\n",
      "0\n",
      "Classifying  IPICRC053T1_8plex\n",
      "0\n",
      "Classifying  IPICRC055T1_8plex\n",
      "0\n",
      "Classifying  IPICRC057T1_8plex\n",
      "0\n",
      "Classifying  IPICRC058T1_8plex\n",
      "0\n",
      "Classifying  IPICRC062T1_8plex\n",
      "0\n",
      "Classifying  IPICRC063T1_8plex\n",
      "0\n",
      "Classifying  IPICRC072T1_8plex\n",
      "0\n",
      "Classifying  IPICRC075T1_8plex\n",
      "0\n",
      "Classifying  IPICRC076T1_8plex\n",
      "0\n",
      "Classifying  IPICRC077T1_8plex\n",
      "0\n",
      "Classifying  IPICRC083T1_sectionA_8plex\n",
      "0\n",
      "Classifying  IPICRC083T1_sectionB_8plex\n",
      "0\n",
      "Classifying  IPICRC085T1_8plex\n",
      "0\n",
      "Classifying  IPICRC086T1_sectionB_8plex\n",
      "0\n",
      "Classifying  IPICRC087T1_8plex\n",
      "0\n",
      "Classifying  IPICRC088T1_8plex\n",
      "0\n",
      "Classifying  IPIGYN027T1_8plex\n",
      "0\n",
      "Classifying  IPIGYN043T1_8plex\n",
      "0\n",
      "Classifying  IPIGYN059T1_8plex\n",
      "0\n",
      "Classifying  IPIHNSC060_8plex\n",
      "0\n",
      "Classifying  IPIHNSC065T1_8plex\n",
      "0\n",
      "Classifying  IPIHNSC069T1_8plex\n",
      "0\n",
      "Classifying  IPIKID047T1_8plex\n",
      "0\n",
      "Classifying  IPIKID051T1_8plex\n",
      "0\n"
     ]
    }
   ],
   "source": [
    "for d in samples:\n",
    "\n",
    "    dir_path = Path(data_tables_dir, d)\n",
    "    if dir_path.is_dir():\n",
    "        \n",
    "        print(\"Classifying \",d)\n",
    "        \n",
    "        data_path = gn(dir_path)\n",
    "        \n",
    "        if data_path is None:\n",
    "            continue\n",
    "            \n",
    "        data = pd.read_csv(data_path)\n",
    "        \n",
    "        data['cell_type'] = ['other']*len(data)\n",
    "        \n",
    "\n",
    "        ct_idx = np.zeros((len(data), len(cell_types)),dtype=np.bool)\n",
    "        \n",
    "        \n",
    "        ct_idx[:,0]= (data['DAPI_expressed']==1) & \\\n",
    "                    (data['CD3_expressed']==1) & \\\n",
    "                    (data['CD4_expressed']==0) & \\\n",
    "                    (data['CD8_expressed']==0) & \\\n",
    "                    (data['XCR1_expressed']==0)\n",
    "\n",
    "        ct_idx[:,1]=(data['DAPI_expressed']==1) & \\\n",
    "                    (data['CD4_expressed']==1) & \\\n",
    "                    (data['CD3_expressed']==1) & \\\n",
    "                    (data['CD8_expressed']==0) & \\\n",
    "                    (data['XCR1_expressed']==0)\n",
    "\n",
    "        ct_idx[:,2]=(data['DAPI_expressed']==1) & \\\n",
    "                    (data['CD8_expressed']==1) & \\\n",
    "                    (data['CD3_expressed']==1) & \\\n",
    "                    (data['CD4_expressed']==0) & \\\n",
    "                    (data['XCR1_expressed']==0)\n",
    "\n",
    "        ct_idx[:,3]=(data['DAPI_expressed']==1) & \\\n",
    "                    (data['CD163_expressed']==1) & \\\n",
    "                    (data['HLADR_expressed']==1) & \\\n",
    "                    (data['XCR1_expressed']==0) & \\\n",
    "                    (data['CD3_expressed']==0)\n",
    "\n",
    "        ct_idx[:,4]=(data['DAPI_expressed']==1) & \\\n",
    "                    (data['XCR1_expressed']==1) & \\\n",
    "                    (data['HLADR_expressed']==1) & \\\n",
    "                    (data['CD3_expressed']==0) & \\\n",
    "                    (data['CD163_expressed']==0)\n",
    "\n",
    "        ct_idx[:,5]=(data['DAPI_expressed']==1) & \\\n",
    "                    (data['HLADR_expressed']==1) & \\\n",
    "                    (data['CD163_expressed']==0) & \\\n",
    "                    (data['CD3_expressed']==0) & \\\n",
    "                    (data['XCR1_expressed']==0)\n",
    "\n",
    "        ct_idx[:,6]=(data['DAPI_expressed']==1) & \\\n",
    "                    (data['CD3_expressed']==1) & \\\n",
    "                    (data['CD4_expressed']==1) & \\\n",
    "                    (data['CD8_expressed']==1)& \\\n",
    "                    (data['XCR1_expressed']==0)\n",
    "        \n",
    "        ct_idx[:,7]=(data['DAPI_expressed']==1) & \\\n",
    "                    (data['CD3_expressed']==0) & \\\n",
    "                    (data['CD163_expressed']==1)& \\\n",
    "                    (data['XCR1_expressed']==1)\n",
    "\n",
    "        assigned_twice = np.sum(ct_idx,axis=1)>1\n",
    "        print(np.sum(assigned_twice))\n",
    "        \n",
    "        for i,ct in enumerate(cell_types):\n",
    "            \n",
    "            data.loc[ct_idx[:,i],'cell_type']=ct\n",
    "            \n",
    "        data.loc[assigned_twice,'cell_type'] = 'assigned_twice'\n",
    "        \n",
    "        data.to_csv(Path(dir_path, f\"{d}_single_cell_data_{today}.csv\"), index=None)"
   ]
  },
  {
   "cell_type": "code",
   "execution_count": 8,
   "id": "491e239f",
   "metadata": {},
   "outputs": [
    {
     "name": "stdout",
     "output_type": "stream",
     "text": [
      "{'cd8_t_cell', 'cdc1', 'cd4_t_cell', 'other_myeloid_and_b_cells', 'mac', 'double_pos_t_cell', 'double_neg_t_cell', 'xcr1_cd163_double_pos', 'other'}\n"
     ]
    }
   ],
   "source": []
  },
  {
   "cell_type": "code",
   "execution_count": null,
   "id": "c5868242",
   "metadata": {},
   "outputs": [],
   "source": []
  },
  {
   "cell_type": "code",
   "execution_count": null,
   "id": "d74a8f8c",
   "metadata": {},
   "outputs": [],
   "source": []
  },
  {
   "cell_type": "code",
   "execution_count": null,
   "id": "849078e0",
   "metadata": {},
   "outputs": [],
   "source": []
  },
  {
   "cell_type": "code",
   "execution_count": null,
   "id": "cd8eb7de",
   "metadata": {},
   "outputs": [],
   "source": []
  }
 ],
 "metadata": {
  "kernelspec": {
   "display_name": "Python 3 (ipykernel)",
   "language": "python",
   "name": "python3"
  },
  "language_info": {
   "codemirror_mode": {
    "name": "ipython",
    "version": 3
   },
   "file_extension": ".py",
   "mimetype": "text/x-python",
   "name": "python",
   "nbconvert_exporter": "python",
   "pygments_lexer": "ipython3",
   "version": "3.9.7"
  }
 },
 "nbformat": 4,
 "nbformat_minor": 5
}
